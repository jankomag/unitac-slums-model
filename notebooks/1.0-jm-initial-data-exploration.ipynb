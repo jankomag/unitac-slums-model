{
 "cells": [
  {
   "cell_type": "code",
   "execution_count": 1,
   "id": "8db90c45-d6f8-4c19-b7e9-78fd274d55a9",
   "metadata": {},
   "outputs": [],
   "source": [
    "# import duckdb\n",
    "# import folium\n",
    "import geopandas as gpd\n",
    "import json\n",
    "# import mercantile\n",
    "import numpy as np\n",
    "import os\n",
    "import pandas as pd\n",
    "import pyarrow.parquet as pq\n",
    "import requests\n",
    "import shutil\n",
    "\n",
    "import sys\n",
    "from pathlib import Path\n",
    "from shapely import wkb, wkt\n",
    "from shapely.geometry import Point, Polygon, box, shape\n",
    "from shapely.wkb import loads as wkb_loads\n",
    "from shapely.wkt import loads\n",
    "from typing import Dict, Any, Union\n",
    "from tqdm import tqdm\n",
    "# from lonboard import viz"
   ]
  },
  {
   "cell_type": "code",
   "execution_count": 2,
   "id": "f00014dc",
   "metadata": {},
   "outputs": [],
   "source": [
    "shapefile_path = \"../data/SHP/ConurbacionesSICA_PS.shp\"\n",
    "gdf = gpd.read_file(shapefile_path, crs='EPSG:4326')"
   ]
  },
  {
   "cell_type": "code",
   "execution_count": 3,
   "id": "1215b519",
   "metadata": {},
   "outputs": [],
   "source": [
    "geojson_data = gdf.to_json()\n",
    "\n",
    "# # Step 3: Create a Folium map with satellite background\n",
    "# m = folium.Map(location=[gdf.geometry.centroid.y.mean(), gdf.geometry.centroid.x.mean()], zoom_start=10)\n",
    "\n",
    "# # Step 4: Add GeoJSON data to the map\n",
    "# folium.GeoJson(\n",
    "#     geojson_data,\n",
    "#     name='geojson'\n",
    "# ).add_to(m)\n",
    "\n",
    "# # Step 5: Add satellite background\n",
    "# folium.TileLayer(tiles='https://server.arcgisonline.com/ArcGIS/rest/services/World_Imagery/MapServer/tile/{z}/{y}/{x}', name='satellite', attr='Esri').add_to(m)\n",
    "\n",
    "# # Step 6: Add Layer Control\n",
    "# folium.LayerControl().add_to(m)\n",
    "# m"
   ]
  },
  {
   "cell_type": "code",
   "execution_count": 4,
   "id": "c3cfe5fd",
   "metadata": {},
   "outputs": [
    {
     "data": {
      "text/html": [
       "<div>\n",
       "<style scoped>\n",
       "    .dataframe tbody tr th:only-of-type {\n",
       "        vertical-align: middle;\n",
       "    }\n",
       "\n",
       "    .dataframe tbody tr th {\n",
       "        vertical-align: top;\n",
       "    }\n",
       "\n",
       "    .dataframe thead th {\n",
       "        text-align: right;\n",
       "    }\n",
       "</style>\n",
       "<table border=\"1\" class=\"dataframe\">\n",
       "  <thead>\n",
       "    <tr style=\"text-align: right;\">\n",
       "      <th></th>\n",
       "      <th>city</th>\n",
       "      <th>city_ascii</th>\n",
       "      <th>lat</th>\n",
       "      <th>lng</th>\n",
       "      <th>country</th>\n",
       "      <th>iso2</th>\n",
       "      <th>iso3</th>\n",
       "      <th>admin_name</th>\n",
       "      <th>capital</th>\n",
       "      <th>population</th>\n",
       "      <th>id</th>\n",
       "    </tr>\n",
       "  </thead>\n",
       "  <tbody>\n",
       "    <tr>\n",
       "      <th>319</th>\n",
       "      <td>Santo Domingo</td>\n",
       "      <td>Santo Domingo</td>\n",
       "      <td>18.4764</td>\n",
       "      <td>-69.8933</td>\n",
       "      <td>Dominican Republic</td>\n",
       "      <td>DO</td>\n",
       "      <td>DOM</td>\n",
       "      <td>Ozama</td>\n",
       "      <td>primary</td>\n",
       "      <td>2581827.0</td>\n",
       "      <td>1214636202</td>\n",
       "    </tr>\n",
       "    <tr>\n",
       "      <th>571</th>\n",
       "      <td>Santiago</td>\n",
       "      <td>Santiago</td>\n",
       "      <td>19.4572</td>\n",
       "      <td>-70.6889</td>\n",
       "      <td>Dominican Republic</td>\n",
       "      <td>DO</td>\n",
       "      <td>DOM</td>\n",
       "      <td>Cibao Norte</td>\n",
       "      <td>admin</td>\n",
       "      <td>1343423.0</td>\n",
       "      <td>1214985348</td>\n",
       "    </tr>\n",
       "    <tr>\n",
       "      <th>937</th>\n",
       "      <td>Santo Domingo Este</td>\n",
       "      <td>Santo Domingo Este</td>\n",
       "      <td>18.4855</td>\n",
       "      <td>-69.8734</td>\n",
       "      <td>Dominican Republic</td>\n",
       "      <td>DO</td>\n",
       "      <td>DOM</td>\n",
       "      <td>Ozama</td>\n",
       "      <td>admin</td>\n",
       "      <td>948855.0</td>\n",
       "      <td>1214664832</td>\n",
       "    </tr>\n",
       "    <tr>\n",
       "      <th>2226</th>\n",
       "      <td>Puerto Plata</td>\n",
       "      <td>Puerto Plata</td>\n",
       "      <td>19.8000</td>\n",
       "      <td>-70.6833</td>\n",
       "      <td>Dominican Republic</td>\n",
       "      <td>DO</td>\n",
       "      <td>DOM</td>\n",
       "      <td>Cibao Norte</td>\n",
       "      <td>minor</td>\n",
       "      <td>318419.0</td>\n",
       "      <td>1214279422</td>\n",
       "    </tr>\n",
       "    <tr>\n",
       "      <th>2261</th>\n",
       "      <td>La Victoria</td>\n",
       "      <td>La Victoria</td>\n",
       "      <td>18.5500</td>\n",
       "      <td>-69.9000</td>\n",
       "      <td>Dominican Republic</td>\n",
       "      <td>DO</td>\n",
       "      <td>DOM</td>\n",
       "      <td>Ozama</td>\n",
       "      <td>NaN</td>\n",
       "      <td>312345.0</td>\n",
       "      <td>1214692077</td>\n",
       "    </tr>\n",
       "  </tbody>\n",
       "</table>\n",
       "</div>"
      ],
      "text/plain": [
       "                    city          city_ascii      lat      lng  \\\n",
       "319        Santo Domingo       Santo Domingo  18.4764 -69.8933   \n",
       "571             Santiago            Santiago  19.4572 -70.6889   \n",
       "937   Santo Domingo Este  Santo Domingo Este  18.4855 -69.8734   \n",
       "2226        Puerto Plata        Puerto Plata  19.8000 -70.6833   \n",
       "2261         La Victoria         La Victoria  18.5500 -69.9000   \n",
       "\n",
       "                 country iso2 iso3   admin_name  capital  population  \\\n",
       "319   Dominican Republic   DO  DOM        Ozama  primary   2581827.0   \n",
       "571   Dominican Republic   DO  DOM  Cibao Norte    admin   1343423.0   \n",
       "937   Dominican Republic   DO  DOM        Ozama    admin    948855.0   \n",
       "2226  Dominican Republic   DO  DOM  Cibao Norte    minor    318419.0   \n",
       "2261  Dominican Republic   DO  DOM        Ozama      NaN    312345.0   \n",
       "\n",
       "              id  \n",
       "319   1214636202  \n",
       "571   1214985348  \n",
       "937   1214664832  \n",
       "2226  1214279422  \n",
       "2261  1214692077  "
      ]
     },
     "execution_count": 4,
     "metadata": {},
     "output_type": "execute_result"
    }
   ],
   "source": [
    "df = pd.read_csv('../data/0/worldcities.csv')\n",
    "df = df[df['country'] == 'Dominican Republic']\n",
    "\n",
    "df.head()"
   ]
  },
  {
   "cell_type": "code",
   "execution_count": 5,
   "id": "a79c3caa-2cc2-464c-b275-2f762ef7979a",
   "metadata": {},
   "outputs": [],
   "source": [
    "df = pd.read_csv('../data/0/worldcities.csv')\n",
    "# List of Central American countries\n",
    "iso2_codes = ['DO','BZ', 'CR', 'SV', 'GT', 'HN', 'NI', 'PA', 'HT', 'JM', 'CU']\n",
    "\n",
    "# Filter the DataFrame for Central American countries\n",
    "df = df[df['iso2'].isin(iso2_codes)]\n",
    "df = df[df['population'] > 100000]\n",
    "df = df.sort_values(by='population', ascending=False)\n",
    "cities = gpd.GeoDataFrame(df, geometry=gpd.points_from_xy(df['lng'], df['lat']))\n",
    "\n",
    "# Function to create bounding box around each point based on population\n",
    "def create_bbox_based_on_population(row):\n",
    "    # Define the minimum and maximum bounding box sizes\n",
    "    min_size = 5\n",
    "    max_size = 30\n",
    "    \n",
    "    # Calculate the size of the bounding box based on population\n",
    "    population = row['population']\n",
    "    bbox_size = min_size + (max_size - min_size) * (population / cities['population'].max())\n",
    "    \n",
    "    # Convert distance from kilometers to degrees (approximate)\n",
    "    distance_deg = bbox_size / 111.0\n",
    "    lon, lat = row['geometry'].x, row['geometry'].y\n",
    "    return box(lon - distance_deg, lat - distance_deg, lon + distance_deg, lat + distance_deg)\n",
    "\n",
    "# Create bounding box around each point based on population\n",
    "cities['bbox'] = cities.apply(create_bbox_based_on_population, axis=1)\n",
    "city_polygons = cities['bbox'].unary_union # merge\n",
    "\n",
    "city_polygons_geom = shape(city_polygons)\n",
    "individual_polygons = list(city_polygons_geom.geoms)\n",
    "bbox_list = [poly.bounds for poly in individual_polygons]\n",
    "\n",
    "# Create GeoDataFrame for bounding boxes\n",
    "bbox_gdf = gpd.GeoDataFrame(geometry=[box(*bbox) for bbox in bbox_list], crs='EPSG:4326')"
   ]
  },
  {
   "cell_type": "code",
   "execution_count": 6,
   "id": "41571587",
   "metadata": {},
   "outputs": [],
   "source": [
    "import pandas as pd\n",
    "import geopandas as gpd\n",
    "from shapely.geometry import box, shape\n",
    "\n",
    "# Load the data\n",
    "df = pd.read_csv('../data/0/worldcities.csv')\n",
    "\n",
    "# List of Central American countries\n",
    "iso2_codes = ['DO','BZ', 'CR', 'SV', 'GT', 'HN', 'NI', 'PA', 'HT', 'JM', 'CU']\n",
    "\n",
    "# Filter the DataFrame for Central American countries\n",
    "df = df[df['iso2'].isin(iso2_codes)]\n",
    "df = df[df['population'] > 100000]\n",
    "df = df.sort_values(by='population', ascending=False)\n",
    "\n",
    "# Create GeoDataFrame\n",
    "cities = gpd.GeoDataFrame(df, geometry=gpd.points_from_xy(df['lng'], df['lat']))\n",
    "\n",
    "# Function to create bounding box around each point based on population\n",
    "def create_bbox_based_on_population(row):\n",
    "    # Define the minimum and maximum bounding box sizes\n",
    "    min_size = 5\n",
    "    max_size = 30\n",
    "    \n",
    "    # Calculate the size of the bounding box based on population\n",
    "    population = row['population']\n",
    "    bbox_size = min_size + (max_size - min_size) * (population / cities['population'].max())\n",
    "    \n",
    "    # Convert distance from kilometers to degrees (approximate)\n",
    "    distance_deg = bbox_size / 111.0\n",
    "    lon, lat = row['geometry'].x, row['geometry'].y\n",
    "    return box(lon - distance_deg, lat - distance_deg, lon + distance_deg, lat + distance_deg)\n",
    "\n",
    "# Create bounding box around each point based on population\n",
    "cities['bbox'] = cities.apply(create_bbox_based_on_population, axis=1)\n",
    "city_polygons = cities['bbox'].unary_union # merge\n",
    "\n",
    "city_polygons_geom = shape(city_polygons)\n",
    "individual_polygons = list(city_polygons_geom.geoms)\n",
    "bbox_list = [poly.bounds for poly in individual_polygons]\n",
    "\n",
    "# Create GeoDataFrame for bounding boxes\n",
    "bbox_gdf = gpd.GeoDataFrame(geometry=[box(*bbox) for bbox in bbox_list], crs='EPSG:4326')\n",
    "\n",
    "# Assign correct city_ascii and iso3 to each bounding box polygon\n",
    "bbox_gdf['city_ascii'] = \"\"\n",
    "bbox_gdf['iso3'] = \"\"\n",
    "\n",
    "for index, row in cities.iterrows():\n",
    "    city_name = row['city_ascii']\n",
    "    iso3 = row['iso3']\n",
    "    city_geom = row['geometry']\n",
    "    \n",
    "    for i, bbox in enumerate(individual_polygons):\n",
    "        bbox_geom = shape(bbox)\n",
    "        if bbox_geom.contains(city_geom):\n",
    "            bbox_gdf.at[i, 'city_ascii'] = city_name\n",
    "            bbox_gdf.at[i, 'iso3'] = iso3\n",
    "            break"
   ]
  },
  {
   "cell_type": "code",
   "execution_count": 7,
   "id": "be1c4930",
   "metadata": {},
   "outputs": [
    {
     "data": {
      "text/plain": [
       "95"
      ]
     },
     "execution_count": 7,
     "metadata": {},
     "output_type": "execute_result"
    }
   ],
   "source": [
    "len(bbox_gdf)"
   ]
  },
  {
   "cell_type": "code",
   "execution_count": 8,
   "id": "405cfa6e",
   "metadata": {},
   "outputs": [],
   "source": [
    "output_path = '../data/0/SICA_cities.parquet'\n",
    "bbox_gdf.to_parquet(output_path)\n",
    "bbox_gdf.to_file('../data/0/SICA_cities.geojson', driver='GeoJSON')"
   ]
  },
  {
   "cell_type": "code",
   "execution_count": 9,
   "id": "a6ab1694",
   "metadata": {},
   "outputs": [
    {
     "ename": "NameError",
     "evalue": "name 'folium' is not defined",
     "output_type": "error",
     "traceback": [
      "\u001b[0;31m---------------------------------------------------------------------------\u001b[0m",
      "\u001b[0;31mNameError\u001b[0m                                 Traceback (most recent call last)",
      "Cell \u001b[0;32mIn[9], line 2\u001b[0m\n\u001b[1;32m      1\u001b[0m centroid \u001b[38;5;241m=\u001b[39m cities\u001b[38;5;241m.\u001b[39mgeometry\u001b[38;5;241m.\u001b[39munary_union\u001b[38;5;241m.\u001b[39mcentroid\n\u001b[0;32m----> 2\u001b[0m m \u001b[38;5;241m=\u001b[39m \u001b[43mfolium\u001b[49m\u001b[38;5;241m.\u001b[39mMap(location\u001b[38;5;241m=\u001b[39m[centroid\u001b[38;5;241m.\u001b[39my, centroid\u001b[38;5;241m.\u001b[39mx], zoom_start\u001b[38;5;241m=\u001b[39m\u001b[38;5;241m5\u001b[39m)\n\u001b[1;32m      3\u001b[0m \u001b[38;5;28;01mfor\u001b[39;00m idx, bbox \u001b[38;5;129;01min\u001b[39;00m bbox_gdf\u001b[38;5;241m.\u001b[39miterrows():\n\u001b[1;32m      4\u001b[0m     folium\u001b[38;5;241m.\u001b[39mGeoJson(bbox[\u001b[38;5;124m'\u001b[39m\u001b[38;5;124mgeometry\u001b[39m\u001b[38;5;124m'\u001b[39m])\u001b[38;5;241m.\u001b[39madd_to(m)\n",
      "\u001b[0;31mNameError\u001b[0m: name 'folium' is not defined"
     ]
    }
   ],
   "source": [
    "centroid = cities.geometry.unary_union.centroid\n",
    "m = folium.Map(location=[centroid.y, centroid.x], zoom_start=5)\n",
    "for idx, bbox in bbox_gdf.iterrows():\n",
    "    folium.GeoJson(bbox['geometry']).add_to(m)\n",
    "m"
   ]
  },
  {
   "cell_type": "markdown",
   "id": "03abe6f8",
   "metadata": {},
   "source": [
    "## Overture Maps"
   ]
  },
  {
   "cell_type": "markdown",
   "id": "06968461",
   "metadata": {},
   "source": [
    "### Querying directly"
   ]
  },
  {
   "cell_type": "code",
   "execution_count": 11,
   "id": "804fc879",
   "metadata": {},
   "outputs": [
    {
     "data": {
      "text/plain": [
       "<duckdb.duckdb.DuckDBPyConnection at 0x1777f2d70>"
      ]
     },
     "execution_count": 11,
     "metadata": {},
     "output_type": "execute_result"
    }
   ],
   "source": [
    "\n",
    "import duckdb# Import jupysql Jupyter extension to create SQL cells\n",
    "con = duckdb.connect(\"../data/0/data.db\")\n",
    "\n",
    "# con.install_extension('httpfs')\n",
    "# con.install_extension('spatial')\n",
    "con.load_extension('httpfs')\n",
    "con.load_extension('spatial')\n",
    "con.execute(\"SET s3_region='us-west-2'\")\n",
    "con.execute(\"SET azure_storage_connection_string = 'DefaultEndpointsProtocol=https;AccountName=overturemapswestus2;AccountKey=;EndpointSuffix=core.windows.net';\")\n",
    "\n",
    "### OR ###\n",
    "\n",
    "# %load_ext sql\n",
    "# %sql duckdb:///:default:\n",
    "\n",
    "# %sql SET s3_region='us-west-2'\n",
    "# %sql -- INSTALL spatial\n",
    "# %sql -- INSTALL httpfs\n",
    "# %sql LOAD spatial\n",
    "# %sql LOAD httpfs\n",
    "\n",
    "# %config SqlMagic.autopandas = True\n",
    "# %config SqlMagic.feedback = False\n",
    "# %config SqlMagic.displaycon = False"
   ]
  },
  {
   "cell_type": "code",
   "execution_count": 7,
   "id": "2f2667a7",
   "metadata": {},
   "outputs": [],
   "source": [
    "### CENTRAL AMERICA - DOWNLOAD ONCE TO DATA.DB\n",
    "xmin = -92.9471760146\n",
    "xmax = -68.2053296346\n",
    "ymin = 7.2337573643\n",
    "ymax = 23.4188526595\n",
    "\n",
    "# Creating the SQL query with the bounding box constraints\n",
    "query = f\"\"\"\n",
    "CREATE TABLE buildings AS\n",
    "SELECT *\n",
    "FROM read_parquet('s3://overturemaps-us-west-2/release/2024-04-16-beta.0/theme=buildings/type=building/*', hive_partitioning=1)\n",
    "WHERE bbox.xmin > {xmin}\n",
    "  AND bbox.xmax < {xmax}\n",
    "  AND bbox.ymin > {ymin}\n",
    "  AND bbox.ymax < {ymax};\n",
    "\"\"\"\n",
    "\n",
    "con.sql(query)"
   ]
  },
  {
   "cell_type": "code",
   "execution_count": 13,
   "id": "42986a77",
   "metadata": {},
   "outputs": [
    {
     "data": {
      "application/vnd.jupyter.widget-view+json": {
       "model_id": "118362ffefe643dcbd3eb03ccc44c0dd",
       "version_major": 2,
       "version_minor": 0
      },
      "text/plain": [
       "FloatProgress(value=0.0, layout=Layout(width='auto'), style=ProgressStyle(bar_color='black'))"
      ]
     },
     "metadata": {},
     "output_type": "display_data"
    },
    {
     "name": "stdout",
     "output_type": "stream",
     "text": [
      "Roads data has been successfully downloaded and saved to the local database.\n"
     ]
    }
   ],
   "source": [
    "# Connect to your local database file\n",
    "con = duckdb.connect(\"../data/0/data.db\")\n",
    "\n",
    "# Install and load necessary extensions\n",
    "con.install_extension('httpfs')\n",
    "con.install_extension('spatial')\n",
    "con.load_extension('httpfs')\n",
    "con.load_extension('spatial')\n",
    "\n",
    "# Set necessary configurations\n",
    "con.execute(\"SET s3_region='us-west-2'\")\n",
    "\n",
    "### CENTRAL AMERICA - DOWNLOAD ONCE TO DATA.DB\n",
    "xmin = -92.9471760146\n",
    "xmax = -68.2053296346\n",
    "ymin = 7.2337573643\n",
    "ymax = 23.4188526595\n",
    "\n",
    "# Creating the SQL query with the bounding box constraints for roads\n",
    "query = f\"\"\"\n",
    "CREATE TABLE IF NOT EXISTS roads AS\n",
    "SELECT *\n",
    "FROM read_parquet('s3://overturemaps-us-west-2/release/2024-04-16-beta.0/theme=transportation/type=segment/*', hive_partitioning=1)\n",
    "WHERE subtype = 'road'\n",
    "  AND bbox.xmin > {xmin}\n",
    "  AND bbox.xmax < {xmax}\n",
    "  AND bbox.ymin > {ymin}\n",
    "  AND bbox.ymax < {ymax};\n",
    "\"\"\"\n",
    "\n",
    "# Execute the query\n",
    "con.execute(query)\n",
    "\n",
    "# Commit the changes and close the connection\n",
    "con.commit()\n",
    "con.close()\n",
    "\n",
    "print(\"Roads data has been successfully downloaded and saved to the local database.\")"
   ]
  },
  {
   "cell_type": "code",
   "execution_count": 9,
   "id": "51dd8493",
   "metadata": {},
   "outputs": [
    {
     "data": {
      "text/plain": [
       "┌──────────────────────┬──────────────────────┬──────────────────────┬───┬─────────────┬───────────┬──────────┐\n",
       "│          id          │       geometry       │         bbox         │ … │ eave_height │   theme   │   type   │\n",
       "│       varchar        │         blob         │ struct(xmin float,…  │   │   double    │  varchar  │ varchar  │\n",
       "├──────────────────────┼──────────────────────┼──────────────────────┼───┼─────────────┼───────────┼──────────┤\n",
       "│ 08b4cd42dbc42fff02…  │ \\x00\\x00\\x00\\x00\\x…  │ {'xmin': -69.9984,…  │ … │        NULL │ buildings │ building │\n",
       "│ 08b4cd42dbc42fff02…  │ \\x00\\x00\\x00\\x00\\x…  │ {'xmin': -69.99836…  │ … │        NULL │ buildings │ building │\n",
       "│ 08b4cd42dbc40fff02…  │ \\x00\\x00\\x00\\x00\\x…  │ {'xmin': -69.99804…  │ … │        NULL │ buildings │ building │\n",
       "│ 08b4cd42dbc40fff02…  │ \\x00\\x00\\x00\\x00\\x…  │ {'xmin': -69.99804…  │ … │        NULL │ buildings │ building │\n",
       "│ 08b4cd42dbc40fff02…  │ \\x00\\x00\\x00\\x00\\x…  │ {'xmin': -69.99805…  │ … │        NULL │ buildings │ building │\n",
       "│ 08b4cd42dbc45fff02…  │ \\x00\\x00\\x00\\x00\\x…  │ {'xmin': -69.99768…  │ … │        NULL │ buildings │ building │\n",
       "│ 08b4cd42dbc6bfff02…  │ \\x00\\x00\\x00\\x00\\x…  │ {'xmin': -69.99725…  │ … │        NULL │ buildings │ building │\n",
       "│ 08b4cd42dbc6afff02…  │ \\x00\\x00\\x00\\x00\\x…  │ {'xmin': -69.99714…  │ … │        NULL │ buildings │ building │\n",
       "│ 08b4cd42dbc69fff02…  │ \\x00\\x00\\x00\\x00\\x…  │ {'xmin': -69.99684…  │ … │        NULL │ buildings │ building │\n",
       "│ 08b4cd42db89afff02…  │ \\x00\\x00\\x00\\x00\\x…  │ {'xmin': -69.99642…  │ … │        NULL │ buildings │ building │\n",
       "│          ·           │          ·           │          ·           │ · │          ·  │     ·     │    ·     │\n",
       "│          ·           │          ·           │          ·           │ · │          ·  │     ·     │    ·     │\n",
       "│          ·           │          ·           │          ·           │ · │          ·  │     ·     │    ·     │\n",
       "│ 08b4cd42dd49bfff02…  │ \\x00\\x00\\x00\\x00\\x…  │ {'xmin': -69.98662…  │ … │        NULL │ buildings │ building │\n",
       "│ 08b4cd42dd49bfff02…  │ \\x00\\x00\\x00\\x00\\x…  │ {'xmin': -69.98657…  │ … │        NULL │ buildings │ building │\n",
       "│ 08b4cd42dd49bfff02…  │ \\x00\\x00\\x00\\x00\\x…  │ {'xmin': -69.98654…  │ … │        NULL │ buildings │ building │\n",
       "│ 08b4cd42d8869fff02…  │ \\x00\\x00\\x00\\x00\\x…  │ {'xmin': -69.98706…  │ … │        NULL │ buildings │ building │\n",
       "│ 08b4cd42dd49afff02…  │ \\x00\\x00\\x00\\x00\\x…  │ {'xmin': -69.98699…  │ … │        NULL │ buildings │ building │\n",
       "│ 08b4cd42dd49afff02…  │ \\x00\\x00\\x00\\x00\\x…  │ {'xmin': -69.98694…  │ … │        NULL │ buildings │ building │\n",
       "│ 08b4cd42d886dfff02…  │ \\x00\\x00\\x00\\x00\\x…  │ {'xmin': -69.98713…  │ … │        NULL │ buildings │ building │\n",
       "│ 08b4cd42dd49efff02…  │ \\x00\\x00\\x00\\x00\\x…  │ {'xmin': -69.9868,…  │ … │        NULL │ buildings │ building │\n",
       "│ 08b4cd42dd49bfff02…  │ \\x00\\x00\\x00\\x00\\x…  │ {'xmin': -69.98665…  │ … │        NULL │ buildings │ building │\n",
       "│ 08b4cd42dd49bfff02…  │ \\x00\\x00\\x00\\x00\\x…  │ {'xmin': -69.98658…  │ … │        NULL │ buildings │ building │\n",
       "├──────────────────────┴──────────────────────┴──────────────────────┴───┴─────────────┴───────────┴──────────┤\n",
       "│ ? rows (>9999 rows, 20 shown)                                                          24 columns (6 shown) │\n",
       "└─────────────────────────────────────────────────────────────────────────────────────────────────────────────┘"
      ]
     },
     "execution_count": 9,
     "metadata": {},
     "output_type": "execute_result"
    }
   ],
   "source": [
    "# coordinates = [[[-70.1560805913,18.372680107],[-69.5854513522,18.372680107],[-69.5854513522,18.6220991307],[-70.1560805913,18.6220991307],[-70.1560805913,18.372680107]]]\n",
    "# flat_coordinates = [item for sublist in coordinates for item in sublist]\n",
    "\n",
    "# xmin = min(coordinate[0] for coordinate in flat_coordinates)\n",
    "# xmax = max(coordinate[0] for coordinate in flat_coordinates)\n",
    "# ymin = min(coordinate[1] for coordinate in flat_coordinates)\n",
    "# ymax = max(coordinate[1] for coordinate in flat_coordinates)\n",
    "gdf = gpd.read_file(\"../data/1/UNITAC_data/SantoDomingo_PS_modified.geojson\")\n",
    "bounds = gdf.total_bounds\n",
    "xmin, ymin, xmax, ymax = bounds[0], bounds[1], bounds[2], bounds[3]\n",
    "\n",
    "query = f\"\"\"\n",
    "    SELECT\n",
    "        *\n",
    "        --ST_GeomFromWKB(geometry) as geometry\n",
    "    FROM buildings\n",
    "    WHERE bbox.xmin > {xmin}\n",
    "      AND bbox.xmax < {xmax}\n",
    "      AND bbox.ymin > {ymin}\n",
    "      AND bbox.ymax < {ymax};\n",
    "\"\"\"\n",
    "con.sql(query)"
   ]
  },
  {
   "cell_type": "code",
   "execution_count": 10,
   "id": "b930a478",
   "metadata": {},
   "outputs": [
    {
     "name": "stdout",
     "output_type": "stream",
     "text": [
      "0.808523046069606\n",
      "source\n",
      "'Google Open Buildings'     239520\n",
      "'Microsoft ML Buildings'     54015\n",
      "'OpenStreetMap'              26751\n",
      "Name: count, dtype: int64\n"
     ]
    },
    {
     "data": {
      "text/html": [
       "<div>\n",
       "<style scoped>\n",
       "    .dataframe tbody tr th:only-of-type {\n",
       "        vertical-align: middle;\n",
       "    }\n",
       "\n",
       "    .dataframe tbody tr th {\n",
       "        vertical-align: top;\n",
       "    }\n",
       "\n",
       "    .dataframe thead th {\n",
       "        text-align: right;\n",
       "    }\n",
       "</style>\n",
       "<table border=\"1\" class=\"dataframe\">\n",
       "  <thead>\n",
       "    <tr style=\"text-align: right;\">\n",
       "      <th></th>\n",
       "      <th>id</th>\n",
       "      <th>geometry</th>\n",
       "      <th>source</th>\n",
       "      <th>confidence</th>\n",
       "    </tr>\n",
       "  </thead>\n",
       "  <tbody>\n",
       "    <tr>\n",
       "      <th>0</th>\n",
       "      <td>08b4cd42dbc42fff02002198c1f2e380</td>\n",
       "      <td>POLYGON ((-69.99827 18.42676, -69.99827 18.426...</td>\n",
       "      <td>'Google Open Buildings'</td>\n",
       "      <td>0.67</td>\n",
       "    </tr>\n",
       "    <tr>\n",
       "      <th>1</th>\n",
       "      <td>08b4cd42dbc42fff02001512277040cd</td>\n",
       "      <td>POLYGON ((-69.99827 18.42673, -69.99827 18.426...</td>\n",
       "      <td>'Google Open Buildings'</td>\n",
       "      <td>0.72</td>\n",
       "    </tr>\n",
       "    <tr>\n",
       "      <th>2</th>\n",
       "      <td>08b4cd42dbc40fff0200c307dbd1caad</td>\n",
       "      <td>POLYGON ((-69.99792 18.42673, -69.99804 18.426...</td>\n",
       "      <td>'Google Open Buildings'</td>\n",
       "      <td>0.68</td>\n",
       "    </tr>\n",
       "    <tr>\n",
       "      <th>3</th>\n",
       "      <td>08b4cd42dbc40fff02009c388762207d</td>\n",
       "      <td>POLYGON ((-69.99792 18.42673, -69.99792 18.426...</td>\n",
       "      <td>'Google Open Buildings'</td>\n",
       "      <td>0.74</td>\n",
       "    </tr>\n",
       "    <tr>\n",
       "      <th>4</th>\n",
       "      <td>08b4cd42dbc40fff02003a2f4b256269</td>\n",
       "      <td>POLYGON ((-69.99792 18.42677, -69.99791 18.426...</td>\n",
       "      <td>'Google Open Buildings'</td>\n",
       "      <td>0.86</td>\n",
       "    </tr>\n",
       "  </tbody>\n",
       "</table>\n",
       "</div>"
      ],
      "text/plain": [
       "                                 id  \\\n",
       "0  08b4cd42dbc42fff02002198c1f2e380   \n",
       "1  08b4cd42dbc42fff02001512277040cd   \n",
       "2  08b4cd42dbc40fff0200c307dbd1caad   \n",
       "3  08b4cd42dbc40fff02009c388762207d   \n",
       "4  08b4cd42dbc40fff02003a2f4b256269   \n",
       "\n",
       "                                            geometry                   source  \\\n",
       "0  POLYGON ((-69.99827 18.42676, -69.99827 18.426...  'Google Open Buildings'   \n",
       "1  POLYGON ((-69.99827 18.42673, -69.99827 18.426...  'Google Open Buildings'   \n",
       "2  POLYGON ((-69.99792 18.42673, -69.99804 18.426...  'Google Open Buildings'   \n",
       "3  POLYGON ((-69.99792 18.42673, -69.99792 18.426...  'Google Open Buildings'   \n",
       "4  POLYGON ((-69.99792 18.42677, -69.99791 18.426...  'Google Open Buildings'   \n",
       "\n",
       "   confidence  \n",
       "0        0.67  \n",
       "1        0.72  \n",
       "2        0.68  \n",
       "3        0.74  \n",
       "4        0.86  "
      ]
     },
     "execution_count": 10,
     "metadata": {},
     "output_type": "execute_result"
    }
   ],
   "source": [
    "buildings = con.sql(query).to_df()\n",
    "buildings = gpd.GeoDataFrame(buildings, geometry=gpd.GeoSeries.from_wkb(buildings.geometry.apply(bytes)), crs='EPSG:4326')\n",
    "\n",
    "buildings['source'] = buildings['sources'].apply(lambda x: [entry['dataset'].strip(',') for entry in x])\n",
    "buildings['confidence'] = buildings.apply(lambda row: [entry['confidence'] if 'OpenStreetMap' not in row['source'] else 1 for entry in row['sources']], axis=1)\n",
    "buildings['source'] = buildings['source'].apply(lambda x: str(x).strip('[]'))\n",
    "buildings['confidence'] = buildings['confidence'].apply(lambda x: str(x).strip('[]'))\n",
    "buildings['confidence'] = pd.to_numeric(buildings['confidence'], errors='coerce')\n",
    "\n",
    "print(buildings['confidence'].mean())\n",
    "print(buildings['source'].value_counts())\n",
    "\n",
    "buildings = buildings[['id','geometry', 'source', 'confidence']]\n",
    "buildings.head()\n"
   ]
  },
  {
   "cell_type": "code",
   "execution_count": 11,
   "id": "46c59f68",
   "metadata": {},
   "outputs": [],
   "source": [
    "buildings = gpd.GeoDataFrame(buildings).to_crs(\"EPSG:4326\")\n",
    "buildings.to_file(\"../data/0/overture/santodomingo_buildings.geojson\",driver=\"GeoJSON\")\n",
    "buildings.to_parquet(\"../data/0/overture/santodomingo_buildings.parquet\")"
   ]
  },
  {
   "cell_type": "code",
   "execution_count": 12,
   "id": "c098cd1d",
   "metadata": {},
   "outputs": [
    {
     "data": {
      "application/vnd.jupyter.widget-view+json": {
       "model_id": "2a34e2e2d0324aea9877c608b6a8e941",
       "version_major": 2,
       "version_minor": 1
      },
      "text/plain": [
       "Map(basemap_style=<CartoBasemap.DarkMatter: 'https://basemaps.cartocdn.com/gl/dark-matter-gl-style/style.json'…"
      ]
     },
     "execution_count": 12,
     "metadata": {},
     "output_type": "execute_result"
    }
   ],
   "source": [
    "# Viz with Lonboard\n",
    "viz(buildings)"
   ]
  },
  {
   "cell_type": "code",
   "execution_count": 5,
   "id": "bf1cbe03",
   "metadata": {},
   "outputs": [
    {
     "name": "stdout",
     "output_type": "stream",
     "text": [
      "Done!\n"
     ]
    }
   ],
   "source": [
    "def query_buildings_within_bbox(coordinates, con, polygon_name):\n",
    "    # Extracting bounding box coordinates\n",
    "    flat_coordinates = [item for sublist in coordinates for item in sublist]\n",
    "    x_coordinates = [coord[0] for coord in flat_coordinates]\n",
    "    y_coordinates = [coord[1] for coord in flat_coordinates]\n",
    "    xmin = min(x_coordinates)\n",
    "    xmax = max(x_coordinates)\n",
    "    ymin = min(y_coordinates)\n",
    "    ymax = max(y_coordinates)\n",
    "    \n",
    "    # Constructing SQL query\n",
    "    query = f\"\"\"\n",
    "        SELECT\n",
    "            *\n",
    "        FROM buildings\n",
    "        WHERE bbox.xmin > {xmin}\n",
    "        AND bbox.xmax < {xmax}\n",
    "        AND bbox.ymin > {ymin}\n",
    "        AND bbox.ymax < {ymax};\n",
    "    \"\"\"\n",
    "    \n",
    "    # Executing SQL query\n",
    "    buildings = con.sql(query).to_df()\n",
    "\n",
    "    # Converting geometry to GeoDataFrame\n",
    "    buildings = gpd.GeoDataFrame(buildings, geometry=gpd.GeoSeries.from_wkb(buildings.geometry.apply(bytes)), crs='EPSG:4326')\n",
    "    \n",
    "    # Extracting source and confidence information\n",
    "    buildings['source'] = buildings['sources'].apply(lambda x: [entry['dataset'].strip(',') for entry in x])\n",
    "    buildings['confidence'] = buildings.apply(lambda row: [entry['confidence'] if 'OpenStreetMap' not in row['source'] else 1 for entry in row['sources']], axis=1)\n",
    "\n",
    "    buildings['source'] = buildings['source'].apply(lambda x: str(x).strip('[]'))\n",
    "    buildings['confidence'] = buildings['confidence'].apply(lambda x: str(x).strip('[]'))\n",
    "    buildings['confidence'] = pd.to_numeric(buildings['confidence'], errors='coerce')\n",
    "    \n",
    "    # Selecting required columns and converting to GeoDataFrame\n",
    "    buildings = buildings[['id','geometry', 'source', 'confidence']]\n",
    "    buildings = gpd.GeoDataFrame(buildings).to_crs(\"EPSG:4326\")\n",
    "    \n",
    "    # Writing to files\n",
    "    buildings.to_file(f\"../data/0/overture/{polygon_name}.geojson\", driver=\"GeoJSON\")\n",
    "    buildings.to_parquet(f\"../data/0/overture/{polygon_name}.parquet\")\n",
    "    print(\"Done!\")\n",
    "\n",
    "coordinates = [[[-91.5667086154,14.8059076488],[-91.4725068302,14.8059076488],[-91.4725068302,14.8871496368],[-91.5667086154,14.8871496368],[-91.5667086154,14.8059076488]]]\n",
    "query_buildings_within_bbox(coordinates, con, \"quetzaltenango\")\n"
   ]
  },
  {
   "cell_type": "code",
   "execution_count": 39,
   "id": "0d86e896",
   "metadata": {},
   "outputs": [
    {
     "data": {
      "text/html": [
       "<div>\n",
       "<style scoped>\n",
       "    .dataframe tbody tr th:only-of-type {\n",
       "        vertical-align: middle;\n",
       "    }\n",
       "\n",
       "    .dataframe tbody tr th {\n",
       "        vertical-align: top;\n",
       "    }\n",
       "\n",
       "    .dataframe thead th {\n",
       "        text-align: right;\n",
       "    }\n",
       "</style>\n",
       "<table border=\"1\" class=\"dataframe\">\n",
       "  <thead>\n",
       "    <tr style=\"text-align: right;\">\n",
       "      <th></th>\n",
       "      <th>avg_d_kbps</th>\n",
       "      <th>avg_u_kbps</th>\n",
       "      <th>avg_lat_ms</th>\n",
       "      <th>devices</th>\n",
       "      <th>geometry</th>\n",
       "    </tr>\n",
       "  </thead>\n",
       "  <tbody>\n",
       "    <tr>\n",
       "      <th>703270</th>\n",
       "      <td>27950.0</td>\n",
       "      <td>16396</td>\n",
       "      <td>23</td>\n",
       "      <td>1</td>\n",
       "      <td>POINT (-70.42511 18.75811)</td>\n",
       "    </tr>\n",
       "    <tr>\n",
       "      <th>703271</th>\n",
       "      <td>15418.0</td>\n",
       "      <td>8782</td>\n",
       "      <td>27</td>\n",
       "      <td>1</td>\n",
       "      <td>POINT (-70.43610 18.74251)</td>\n",
       "    </tr>\n",
       "    <tr>\n",
       "      <th>703272</th>\n",
       "      <td>10627.0</td>\n",
       "      <td>4452</td>\n",
       "      <td>31</td>\n",
       "      <td>1</td>\n",
       "      <td>POINT (-70.43060 18.74251)</td>\n",
       "    </tr>\n",
       "    <tr>\n",
       "      <th>703273</th>\n",
       "      <td>20789.0</td>\n",
       "      <td>439</td>\n",
       "      <td>43</td>\n",
       "      <td>1</td>\n",
       "      <td>POINT (-70.43610 18.73731)</td>\n",
       "    </tr>\n",
       "    <tr>\n",
       "      <th>703274</th>\n",
       "      <td>10362.0</td>\n",
       "      <td>6774</td>\n",
       "      <td>24</td>\n",
       "      <td>1</td>\n",
       "      <td>POINT (-70.36469 18.74771)</td>\n",
       "    </tr>\n",
       "  </tbody>\n",
       "</table>\n",
       "</div>"
      ],
      "text/plain": [
       "        avg_d_kbps  avg_u_kbps  avg_lat_ms  devices  \\\n",
       "703270     27950.0       16396          23        1   \n",
       "703271     15418.0        8782          27        1   \n",
       "703272     10627.0        4452          31        1   \n",
       "703273     20789.0         439          43        1   \n",
       "703274     10362.0        6774          24        1   \n",
       "\n",
       "                          geometry  \n",
       "703270  POINT (-70.42511 18.75811)  \n",
       "703271  POINT (-70.43610 18.74251)  \n",
       "703272  POINT (-70.43060 18.74251)  \n",
       "703273  POINT (-70.43610 18.73731)  \n",
       "703274  POINT (-70.36469 18.74771)  "
      ]
     },
     "execution_count": 39,
     "metadata": {},
     "output_type": "execute_result"
    }
   ],
   "source": [
    "# Define the bounding box coordinates\n",
    "minx, miny, maxx, maxy = -70.5, 18.2, -69.8, 18.8\n",
    "\n",
    "# Create a bounding box geometry\n",
    "bbox = box(minx, miny, maxx, maxy)\n",
    "\n",
    "# Filter the GeoDataFrame using the bounding box\n",
    "filtered_gdf = gdf.cx[minx:maxx, miny:maxy]\n",
    "\n",
    "# Print the filtered GeoDataFrame\n",
    "filtered_gdf.head()\n"
   ]
  },
  {
   "cell_type": "code",
   "execution_count": 43,
   "id": "a2a21c8f",
   "metadata": {},
   "outputs": [
    {
     "name": "stderr",
     "output_type": "stream",
     "text": [
      "/opt/miniconda3/envs/rastervision/lib/python3.12/site-packages/geopandas/geodataframe.py:1528: SettingWithCopyWarning: \n",
      "A value is trying to be set on a copy of a slice from a DataFrame.\n",
      "Try using .loc[row_indexer,col_indexer] = value instead\n",
      "\n",
      "See the caveats in the documentation: https://pandas.pydata.org/pandas-docs/stable/user_guide/indexing.html#returning-a-view-versus-a-copy\n",
      "  super().__setitem__(key, value)\n"
     ]
    },
    {
     "data": {
      "image/png": "[encoded data removed]",
      "text/plain": [
       "<Figure size 640x480 with 2 Axes>"
      ]
     },
     "metadata": {},
     "output_type": "display_data"
    }
   ],
   "source": [
    "import matplotlib.pyplot as plt\n",
    "filtered_gdf['avg_d_kbps'] = filtered_gdf['avg_d_kbps'].astype(float)  # Ensure the column is float type for coloring\n",
    "\n",
    "fig, ax = plt.subplots(1, 1)\n",
    "filtered_gdf.plot(column='avg_d_kbps', ax=ax, legend=True, markersize=2, cmap='viridis')\n",
    "\n",
    "plt.show()"
   ]
  },
  {
   "cell_type": "code",
   "execution_count": 24,
   "id": "0caa7b27",
   "metadata": {},
   "outputs": [
    {
     "data": {
      "application/vnd.jupyter.widget-view+json": {
       "model_id": "15d4cec041524c298ded9aa1ccc5af1b",
       "version_major": 2,
       "version_minor": 1
      },
      "text/plain": [
       "Map(layers=[ScatterplotLayer(extensions=[DataFilterExtension(filter_size=3)], filter_range=[[10000.0, 50000.0]…"
      ]
     },
     "execution_count": 24,
     "metadata": {},
     "output_type": "execute_result"
    }
   ],
   "source": [
    "# LONBOARD tutorial\n",
    "from pathlib import Path\n",
    "\n",
    "import geopandas as gpd\n",
    "import numpy as np\n",
    "import pandas as pd\n",
    "import shapely\n",
    "from ipywidgets import FloatRangeSlider, jsdlink\n",
    "from palettable.colorbrewer.diverging import BrBG_10\n",
    "\n",
    "from lonboard import Map, ScatterplotLayer\n",
    "from lonboard.colormap import apply_continuous_cmap\n",
    "from lonboard.controls import MultiRangeSlider\n",
    "from lonboard.layer_extension import DataFilterExtension\n",
    "\n",
    "url = \"https://ookla-open-data.s3.us-west-2.amazonaws.com/parquet/performance/type=mobile/year=2019/quarter=1/2019-01-01_performance_mobile_tiles.parquet\"\n",
    "local_path = Path(\"data-filter-extension.parquet\")\n",
    "if local_path.exists():\n",
    "    gdf = gpd.read_parquet(local_path)\n",
    "else:\n",
    "    columns = [\"avg_d_kbps\", \"avg_u_kbps\", \"avg_lat_ms\", \"devices\", \"tile\"]\n",
    "    df = pd.read_parquet(url, columns=columns)\n",
    "\n",
    "    tile_geometries = shapely.from_wkt(df[\"tile\"])\n",
    "    tile_centroids = shapely.centroid(tile_geometries)\n",
    "    non_geom_columns = [col for col in columns if col != \"tile\"]\n",
    "    gdf = gpd.GeoDataFrame(df[non_geom_columns], geometry=tile_centroids, crs=\"EPSG:4326\")\n",
    "    gdf.to_parquet(local_path)\n",
    "\n",
    "filter_extension = DataFilterExtension(filter_size=3)\n",
    "\n",
    "min_bound = 5000\n",
    "max_bound = 50000\n",
    "normalized_download_speed = (gdf[\"avg_d_kbps\"] - min_bound) / (max_bound - min_bound)\n",
    "fill_color = apply_continuous_cmap(normalized_download_speed, BrBG_10)\n",
    "radius = normalized_download_speed * 200\n",
    "\n",
    "filter_values = np.column_stack(\n",
    "    [gdf[\"avg_d_kbps\"], gdf[\"avg_u_kbps\"], gdf[\"avg_lat_ms\"]]\n",
    ")\n",
    "initial_filter_range = [\n",
    "    [10_000, 50_000],\n",
    "    [1000, 10_000],\n",
    "    [0, 100],\n",
    "]\n",
    "\n",
    "layer = ScatterplotLayer.from_geopandas(\n",
    "    gdf,\n",
    "    extensions=[filter_extension],\n",
    "    get_fill_color=fill_color,\n",
    "    get_radius=radius,\n",
    "    get_filter_value=filter_values,\n",
    "    filter_range=initial_filter_range,\n",
    "    radius_units=\"meters\",\n",
    "    radius_min_pixels=0.1,\n",
    ")\n",
    "m = Map(layer)\n",
    "m"
   ]
  },
  {
   "cell_type": "code",
   "execution_count": 26,
   "id": "4a66e890",
   "metadata": {},
   "outputs": [],
   "source": [
    "download_slider = FloatRangeSlider(value=initial_filter_range[0], min=0, max=70_000, step=0.1, description=\"Download: \")\n",
    "upload_slider = FloatRangeSlider(value=initial_filter_range[1], min=0, max=50_000, step=1, description=\"Upload: \")\n",
    "latency_slider = FloatRangeSlider(value=initial_filter_range[2], min=0, max=500, step=1, description=\"Latency: \")\n",
    "multi_slider = MultiRangeSlider([download_slider, upload_slider, latency_slider])\n",
    "multi_slider\n",
    "_ = jsdlink((multi_slider, \"value\"), (layer, \"filter_range\"))"
   ]
  },
  {
   "cell_type": "markdown",
   "id": "4149054e",
   "metadata": {},
   "source": [
    "### Roads"
   ]
  },
  {
   "cell_type": "code",
   "execution_count": 16,
   "id": "41168fe2",
   "metadata": {},
   "outputs": [
    {
     "data": {
      "application/vnd.jupyter.widget-view+json": {
       "model_id": "f28046811bfb47dc8654efa46984c295",
       "version_major": 2,
       "version_minor": 0
      },
      "text/plain": [
       "FloatProgress(value=0.0, layout=Layout(width='auto'), style=ProgressStyle(bar_color='black'))"
      ]
     },
     "metadata": {},
     "output_type": "display_data"
    },
    {
     "ename": "",
     "evalue": "",
     "output_type": "error",
     "traceback": [
      "\u001b[1;31mThe Kernel crashed while executing code in the current cell or a previous cell. \n",
      "\u001b[1;31mPlease review the code in the cell(s) to identify a possible cause of the failure. \n",
      "\u001b[1;31mClick <a href='https://aka.ms/vscodeJupyterKernelCrash'>here</a> for more info. \n",
      "\u001b[1;31mView Jupyter <a href='command:jupyter.viewOutput'>log</a> for further details."
     ]
    }
   ],
   "source": [
    "### CENTRAL AMERICA - DOWNLOAD ONCE TO DATA.DB\n",
    "xmin = -92.9471760146\n",
    "xmax = -68.2053296346\n",
    "ymin = 7.2337573643\n",
    "ymax = 23.4188526595\n",
    "\n",
    "# Creating the SQL query with the bounding box constraints\n",
    "query = f\"\"\"\n",
    "CREATE OR REPLACE TABLE roads AS\n",
    "SELECT *\n",
    "FROM read_parquet('s3://overturemaps-us-west-2/release/2024-04-16-beta.0/theme=transportation/type=segment/*')\n",
    "WHERE\n",
    "subtype = 'road' AND\n",
    "bbox.xmin > {xmin}\n",
    "AND bbox.xmax < {xmax}\n",
    "AND bbox.ymin > {ymin}\n",
    "AND bbox.ymax < {ymax};\n",
    "\"\"\"\n",
    "\n",
    "con.sql(query)"
   ]
  },
  {
   "cell_type": "code",
   "execution_count": 6,
   "id": "2b828342",
   "metadata": {},
   "outputs": [
    {
     "ename": "NameError",
     "evalue": "name 'query' is not defined",
     "output_type": "error",
     "traceback": [
      "\u001b[0;31m---------------------------------------------------------------------------\u001b[0m",
      "\u001b[0;31mNameError\u001b[0m                                 Traceback (most recent call last)",
      "Cell \u001b[0;32mIn[6], line 1\u001b[0m\n\u001b[0;32m----> 1\u001b[0m df \u001b[38;5;241m=\u001b[39m con\u001b[38;5;241m.\u001b[39mexecute(\u001b[43mquery\u001b[49m)\u001b[38;5;241m.\u001b[39mfetchdf()\n\u001b[1;32m      2\u001b[0m roads \u001b[38;5;241m=\u001b[39m gpd\u001b[38;5;241m.\u001b[39mGeoSeries(df[\u001b[38;5;124m'\u001b[39m\u001b[38;5;124mgeometry\u001b[39m\u001b[38;5;124m'\u001b[39m]\u001b[38;5;241m.\u001b[39mapply(wkt\u001b[38;5;241m.\u001b[39mloads))\n\u001b[1;32m      4\u001b[0m roads \u001b[38;5;241m=\u001b[39m gpd\u001b[38;5;241m.\u001b[39mGeoDataFrame(roads, columns\u001b[38;5;241m=\u001b[39m[\u001b[38;5;124m'\u001b[39m\u001b[38;5;124mgeometry\u001b[39m\u001b[38;5;124m'\u001b[39m],crs\u001b[38;5;241m=\u001b[39m\u001b[38;5;124m\"\u001b[39m\u001b[38;5;124mEPSG:4326\u001b[39m\u001b[38;5;124m\"\u001b[39m)\n",
      "\u001b[0;31mNameError\u001b[0m: name 'query' is not defined"
     ]
    }
   ],
   "source": [
    "df = con.execute(query).fetchdf()\n",
    "roads = gpd.GeoSeries(df['geometry'].apply(wkt.loads))\n",
    "\n",
    "roads = gpd.GeoDataFrame(roads, columns=['geometry'],crs=\"EPSG:4326\")\n",
    "roads.plot()"
   ]
  },
  {
   "cell_type": "code",
   "execution_count": null,
   "id": "d0bd36b6",
   "metadata": {},
   "outputs": [
    {
     "data": {
      "application/vnd.jupyter.widget-view+json": {
       "model_id": "c78ba6a767ff49ae9ff6a14ddc4764e9",
       "version_major": 2,
       "version_minor": 0
      },
      "text/plain": [
       "FloatProgress(value=0.0, layout=Layout(width='auto'), style=ProgressStyle(bar_color='black'))"
      ]
     },
     "metadata": {},
     "output_type": "display_data"
    }
   ],
   "source": [
    "%%sql roads_new << \n",
    "    SELECT\n",
    "        geometry as geom\n",
    "    FROM read_parquet('s3://overturemaps-us-west-2/release/2024-04-16-beta.0/theme=transportation/type=segment/*', hive_partitioning=1) as a, data_bbox as b\n",
    "    WHERE subType = 'road'\n",
    "    AND ST_Intersects(ST_GeomFromWKB(a.geometry), ST_GeomFromText(b.bbox))"
   ]
  },
  {
   "cell_type": "code",
   "execution_count": null,
   "id": "591f2468",
   "metadata": {},
   "outputs": [],
   "source": [
    "roads_new = gpd.GeoDataFrame(roads_new, geometry=gpd.GeoSeries.from_wkb(roads_new.geom.apply(bytes)))\n",
    "roads_new.plot()"
   ]
  },
  {
   "cell_type": "code",
   "execution_count": 11,
   "id": "350f0c2e",
   "metadata": {},
   "outputs": [],
   "source": [
    "def geojson_to_quadkey(data: Dict[str, Any]) -> str:\n",
    "    geom = shape(data[\"geometry\"])\n",
    "    min_lon, min_lat, max_lon, max_lat = geom.bounds\n",
    "\n",
    "    for zoom in range(12, -1, -1):\n",
    "        tiles = list(mercantile.tiles(min_lon, min_lat, max_lon, max_lat, zooms=zoom))\n",
    "        if len(tiles) == 1:\n",
    "            return mercantile.quadkey(tiles[0])\n",
    "\n",
    "    return ''\n",
    "\n",
    "def geojson_to_wkt(data: Dict[str, Any]) -> str:\n",
    "    geometry = shape(data['geometry'])\n",
    "    return geometry.wkt\n",
    "\n",
    "def download_buildings(\n",
    "        bbox,\n",
    "        # aoi_polygon: Dict[str, Any],\n",
    "        output_dir: Union[str, Path] = \"output\",\n",
    "        country_iso: str = None,\n",
    "        format: Union[str, Format] = Format.GEOJSON\n",
    "    ) -> None:\n",
    "\n",
    "    # Convert AOI polygon to quadkey and WKT\n",
    "    quadkey = geojson_to_quadkey(aoi_polygon)\n",
    "\n",
    "    # Prepare output directory\n",
    "    output_dir = Path(output_dir)\n",
    "    output_dir.mkdir(parents=True, exist_ok=True)\n",
    "\n",
    "    xmin = min(point[0] for point in bbox)\n",
    "    xmax = max(point[0] for point in bbox)\n",
    "    ymin = min(point[1] for point in bbox)\n",
    "    ymax = max(point[1] for point in bbox)\n",
    "\n",
    "    # Generate SQL query to download buildings\n",
    "    base_sql = f\"select * from buildings\"\n",
    "    where_clause = f\"WHERE quadkey LIKE '{quadkey}%'\"\n",
    "    if country_iso:\n",
    "        where_clause += f\" AND country_iso = '{country_iso}'\"\n",
    "    where_clause += f\" AND bbox.minx > {xmin} AND bbox.maxx < {xmax} AND bbox.miny > {ymin} AND bbox.maxy < {ymax};\"\n",
    "    sql_query = f\"{base_sql},\\n{where_clause}\"\n",
    "\n",
    "    # Execute SQL query\n",
    "    df = con.execute(sql_query).fetchdf()\n",
    "    gdf = gpd.GeoDataFrame(df, geometry=gpd.GeoSeries.from_wkb(df.geom.apply(bytes)))\n",
    "\n",
    "    # df = gpd.GeoSeries(df['geometry'].apply(wkt.loads))\n",
    "    # df = gpd.GeoDataFrame(df, columns=['geometry'],crs=\"EPSG:4326\")\n",
    "    \n",
    "    # Save the DataFrame to the output directory\n",
    "    output_file = output_dir / \"buildings.parquet\"\n",
    "    df.to_parquet(output_file)\n",
    "\n",
    "    print(f\"Buildings downloaded and saved to: {output_file}\")"
   ]
  },
  {
   "cell_type": "code",
   "execution_count": null,
   "id": "1182c2cb",
   "metadata": {},
   "outputs": [],
   "source": [
    "# ### S COOP DISTRIBUtION OLD ONLY OSM ###\n",
    "# ## Download all countries files  from SCoop###\n",
    "# countries = {\n",
    "#     # 'BZ': 'Belize',\n",
    "#     # 'CR': 'Costa_Rica',\n",
    "#     # 'SV': 'El_Salvador',\n",
    "#     # 'GT': 'Guatemala',\n",
    "#     # 'HN': 'Honduras',\n",
    "#     # 'NI': 'Nicaragua',\n",
    "#     # 'PA': 'Panama',\n",
    "#     # 'HT': 'Haiti',\n",
    "#     # 'JM': 'Jamaica',\n",
    "#     # 'CU': 'Cuba'\n",
    "# }\n",
    "\n",
    "# def download_buildings_data(countries):\n",
    "#     subdirectory = '../data/0/overture'\n",
    "#     os.makedirs(subdirectory, exist_ok=True)\n",
    "    \n",
    "#     for iso2_code, country_name in countries.items():\n",
    "        \n",
    "#         url = f'https://data.source.coop/cholmes/overture/geoparquet-country-quad-hive/country_iso={iso2_code}/{country_name}.parquet'\n",
    "#         response = requests.get(url)\n",
    "#         with open(os.path.join(subdirectory, f'{iso2_code}.parquet'), 'wb') as file:\n",
    "#             file.write(response.content)\n",
    "\n",
    "# download_buildings_data(countries)"
   ]
  },
  {
   "cell_type": "code",
   "execution_count": null,
   "id": "0e8437d6",
   "metadata": {},
   "outputs": [],
   "source": [
    "### Download only AOI intersections countires files ###\n",
    "def download_buildings_data(iso2_codes, polygon_of_interest):\n",
    "    # Create the subdirectory if it doesn't exist\n",
    "    subdirectory = '../data/0/'\n",
    "    os.makedirs(subdirectory, exist_ok=True)\n",
    "    \n",
    "    for iso2_code in iso2_codes:\n",
    "        url = f'https://data.source.coop/cholmes/google-open-buildings/geoparquet-by-country/country_iso={iso2_code}/{iso2_code}.parquet'\n",
    "        response = requests.get(url)\n",
    "        \n",
    "        # Write the response content to a temporary file\n",
    "        with open(os.path.join(subdirectory, f'{iso2_code}.parquet.temp'), 'wb') as file:\n",
    "            file.write(response.content)\n",
    "        \n",
    "        # Read the temporary parquet file into GeoDataFrame\n",
    "        gdf = gpd.read_parquet(os.path.join(subdirectory, f'{iso2_code}.parquet.temp')).to_crs(epsg=4326)\n",
    "        \n",
    "        # Filter data based on polygon of interest\n",
    "        filtered_gdf = gpd.sjoin(gdf, polygon_of_interest, how=\"inner\", op='within')\n",
    "        \n",
    "        # Write the filtered data to GeoJSON\n",
    "        filtered_gdf.to_file(os.path.join(subdirectory, f'{iso2_code}_filtered.geojson'), driver='GeoJSON')\n",
    "        \n",
    "        # Clean up temporary parquet file\n",
    "        os.remove(os.path.join(subdirectory, f'{iso2_code}.parquet.temp'))\n",
    "iso2_codes = ['BZ', 'HN', 'PA']\n",
    "download_buildings_data(iso2_codes, city_polygons)"
   ]
  }
 ],
 "metadata": {
  "kernelspec": {
   "display_name": "Python 3 (ipykernel)",
   "language": "python",
   "name": "python3"
  },
  "language_info": {
   "codemirror_mode": {
    "name": "ipython",
    "version": 3
   },
   "file_extension": ".py",
   "mimetype": "text/x-python",
   "name": "python",
   "nbconvert_exporter": "python",
   "pygments_lexer": "ipython3",
   "version": "3.11.9"
  }
 },
 "nbformat": 4,
 "nbformat_minor": 5
}
