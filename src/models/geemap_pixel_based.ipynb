{
 "cells": [
  {
   "cell_type": "code",
   "execution_count": 1,
   "metadata": {},
   "outputs": [
    {
     "data": {
      "text/html": [
       "<p>To authorize access needed by Earth Engine, open the following\n",
       "        URL in a web browser and follow the instructions:</p>\n",
       "        <p><a href=https://code.earthengine.google.com/client-auth?scopes=https%3A//www.googleapis.com/auth/earthengine%20https%3A//www.googleapis.com/auth/devstorage.full_control&request_id=ma4tl3KbKGCDGMUXTWzZ64VM18WsCtIq59L6xjydARk&tc=5wK_SO4tAbmytAAlFyOmf2G_2cdE3JVXY9aZC3JWlo4&cc=NA-ABXn9H6xtFsfFVysgd2RxxDmhDqHP5GL6J9SLc3s>https://code.earthengine.google.com/client-auth?scopes=https%3A//www.googleapis.com/auth/earthengine%20https%3A//www.googleapis.com/auth/devstorage.full_control&request_id=ma4tl3KbKGCDGMUXTWzZ64VM18WsCtIq59L6xjydARk&tc=5wK_SO4tAbmytAAlFyOmf2G_2cdE3JVXY9aZC3JWlo4&cc=NA-ABXn9H6xtFsfFVysgd2RxxDmhDqHP5GL6J9SLc3s</a></p>\n",
       "        <p>The authorization workflow will generate a code, which you should paste in the box below.</p>\n",
       "        "
      ],
      "text/plain": [
       "<IPython.core.display.HTML object>"
      ]
     },
     "metadata": {},
     "output_type": "display_data"
    },
    {
     "name": "stdout",
     "output_type": "stream",
     "text": [
      "\n",
      "Successfully saved authorization token.\n"
     ]
    }
   ],
   "source": [
    "import ee\n",
    "import geemap\n",
    "\n",
    "# Initialize Earth Engine\n",
    "ee.Authenticate()\n",
    "ee.Initialize(project='ee-yankomagn')"
   ]
  },
  {
   "cell_type": "code",
   "execution_count": 2,
   "metadata": {},
   "outputs": [],
   "source": [
    "# Create a map\n",
    "Map = geemap.Map()\n",
    "\n",
    "# Set map center\n",
    "Map.setCenter(-69.91151172418182, 18.47803423428588, 12)\n",
    "Map.add_basemap('SATELLITE')\n",
    "\n",
    "# Load buildings and labels\n",
    "buildings_uri_SD = '../data/0/overture/santodomingo_buildings.geojson'"
   ]
  },
  {
   "cell_type": "code",
   "execution_count": 3,
   "metadata": {},
   "outputs": [],
   "source": [
    "# Load buildings\n",
    "buildings = ee.FeatureCollection('GOOGLE/Research/open-buildings/v3/polygons')\n",
    "Map.addLayer(buildings, {'color': '00FF00'}, 'Buildings')"
   ]
  },
  {
   "cell_type": "code",
   "execution_count": 4,
   "metadata": {},
   "outputs": [],
   "source": [
    "# Add labels\n",
    "labels = ee.FeatureCollection('projects/ee-yankomagn/assets/SD_labels');\n",
    "labels = labels.map(lambda feature: feature.set('class', 1))\n",
    "vislabelParams = {'color': 'brown'}\n",
    "wards = labels.geometry().bounds()\n",
    "\n",
    "Map.addLayer(wards, {}, 'Wards', False)\n",
    "Map.addLayer(labels, {}, 'Labels', False)"
   ]
  },
  {
   "cell_type": "code",
   "execution_count": 5,
   "metadata": {},
   "outputs": [],
   "source": [
    "# Sentinel-2 multispectral imagery collection and processing\n",
    "def maskS2clouds(image):\n",
    "    qa = image.select('QA60')\n",
    "    cloudBitMask = 1 << 10\n",
    "    cirrusBitMask = 1 << 11\n",
    "    mask = qa.bitwiseAnd(cloudBitMask).eq(0).And(\n",
    "        qa.bitwiseAnd(cirrusBitMask).eq(0))\n",
    "    return image.updateMask(mask) \\\n",
    "        .select(['B4', 'B3', 'B2', 'B8']) \\\n",
    "        .copyProperties(image, [\"system:time_start\"])\n",
    "\n",
    "collection = ee.ImageCollection('COPERNICUS/S2') \\\n",
    "    .filterDate('2020-01-01', '2020-12-31') \\\n",
    "    .filter(ee.Filter.lt('CLOUDY_PIXEL_PERCENTAGE', 20)) \\\n",
    "    .map(maskS2clouds) \\\n",
    "    .median()\n",
    "\n",
    "# Clip the image to the study area\n",
    "image = collection.clip(wards)\n",
    "\n",
    "# Add the Sentinel-2 layer to the map\n",
    "Map.addLayer(image, {'bands': ['B4', 'B3', 'B2'], 'min': 0, 'max': 3000}, 'Sentinel-2 RGB', True)"
   ]
  },
  {
   "cell_type": "code",
   "execution_count": 6,
   "metadata": {},
   "outputs": [],
   "source": [
    "# Calculate building density\n",
    "empty = ee.Image().byte()\n",
    "buildingsRec = buildings.map(lambda feature: feature.set({\n",
    "    'area': ee.Number(1).divide(feature.geometry().area()).multiply(100),\n",
    "    'const': 1\n",
    "}))\n",
    "\n",
    "buildingsRec_color = empty.paint(buildingsRec, 'area').unmask(0)\n",
    "\n",
    "gaussian = ee.Kernel.gaussian(radius=60, units='meters', normalize=True, sigma=15)\n",
    "\n",
    "density = buildingsRec_color.reduceNeighborhood(reducer=ee.Reducer.sum(), kernel=gaussian)\n",
    "clippedDensity = density.clip(wards)\n",
    "image = image.addBands(clippedDensity)"
   ]
  },
  {
   "cell_type": "code",
   "execution_count": 12,
   "metadata": {},
   "outputs": [],
   "source": [
    "# Visualization parameters for density\n",
    "palette = ['blue', 'cyan', 'green', 'yellow', 'red']\n",
    "visParams = {\n",
    "    'bands': ['constant_sum'],\n",
    "    'palette': palette\n",
    "}\n",
    "\n",
    "Map.addLayer(image, visParams, 'Density', True)\n",
    "Map.addLayer(labels, vislabelParams, 'Labels')"
   ]
  },
  {
   "cell_type": "code",
   "execution_count": 13,
   "metadata": {},
   "outputs": [],
   "source": [
    "# Create a binary mask from the labels\n",
    "label_mask = ee.Image().paint(labels, 1).unmask(0)\n",
    "\n",
    "# Function to generate points\n",
    "def generate_points(region, n_points, label):\n",
    "    return ee.FeatureCollection.randomPoints(region, n_points) \\\n",
    "        .map(lambda f: f.set('class', label))\n",
    "\n",
    "# Generate points inside and outside labeled areas\n",
    "n_points = 100000\n",
    "points_inside = generate_points(labels.geometry(), n_points, 1)\n",
    "\n",
    "# Create a small buffer around the labels and use it for the difference operation\n",
    "labels_buffer = labels.geometry().buffer(1)  # 1 meter buffer\n",
    "points_outside = generate_points(wards.difference(labels_buffer, 1), n_points, 0)\n",
    "\n",
    "all_points = points_inside.merge(points_outside)\n",
    "\n",
    "# Split into training and validation\n",
    "split = 0.7\n",
    "training = all_points.randomColumn().filter(ee.Filter.lt('random', split))\n",
    "validation = all_points.randomColumn().filter(ee.Filter.gte('random', split))\n",
    "\n",
    "# Sample the image at the point locations\n",
    "training = image.sampleRegions(\n",
    "    collection=training,\n",
    "    properties=['class'],\n",
    "    scale=10\n",
    ")\n",
    "\n",
    "# Train a Random Forest classifier\n",
    "rf = ee.Classifier.smileRandomForest(100).train(\n",
    "    features=training,\n",
    "    classProperty='class',\n",
    "    inputProperties=['B4', 'B3', 'B2', 'B8', 'constant_sum']\n",
    ")\n",
    "\n",
    "# Apply the RF classifier to the image\n",
    "classified = image.classify(rf)\n",
    "\n",
    "# Validate the classifier\n",
    "validated = image.sampleRegions(\n",
    "    collection=validation,\n",
    "    properties=['class'],\n",
    "    scale=10\n",
    ")\n",
    "testAccuracy = validated.classify(rf).errorMatrix('class', 'classification')\n",
    "\n",
    "print('Validation error matrix: ', testAccuracy.getInfo())\n",
    "print('Validation overall accuracy: ', testAccuracy.accuracy().getInfo())"
   ]
  },
  {
   "cell_type": "code",
   "execution_count": null,
   "metadata": {},
   "outputs": [],
   "source": [
    "# Visualize the classification result\n",
    "class_palette = ['black', 'red']  # black for background, red for labeled areas\n",
    "class_vis = {\n",
    "    'min': 0,\n",
    "    'max': 1,\n",
    "    'palette': class_palette\n",
    "}\n",
    "Map.addLayer(classified, class_vis, 'Classification')\n",
    "\n",
    "# Display the map\n",
    "Map"
   ]
  }
 ],
 "metadata": {
  "kernelspec": {
   "display_name": "rv",
   "language": "python",
   "name": "python3"
  },
  "language_info": {
   "codemirror_mode": {
    "name": "ipython",
    "version": 3
   },
   "file_extension": ".py",
   "mimetype": "text/x-python",
   "name": "python",
   "nbconvert_exporter": "python",
   "pygments_lexer": "ipython3",
   "version": "3.11.9"
  }
 },
 "nbformat": 4,
 "nbformat_minor": 2
}
