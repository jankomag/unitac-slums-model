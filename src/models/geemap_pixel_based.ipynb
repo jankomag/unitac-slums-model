{
 "cells": [
  {
   "cell_type": "code",
   "execution_count": 1,
   "metadata": {},
   "outputs": [
    {
     "data": {
      "text/html": [
       "<p>To authorize access needed by Earth Engine, open the following\n",
       "        URL in a web browser and follow the instructions:</p>\n",
       "        <p><a href=https://code.earthengine.google.com/client-auth?scopes=https%3A//www.googleapis.com/auth/earthengine%20https%3A//www.googleapis.com/auth/devstorage.full_control&request_id=FtEyKfJ_c2Htl8MPEeYh9JVc9d4G_sBH9MzusFoAva0&tc=xInqAkrKEJkSuMq-eiQd-9MFKLAs1h7D0OsOIqhtO14&cc=-72KgnKJSGyBAEyfOgUSCpGMrq2VX3ShaPhG_sSeBAM>https://code.earthengine.google.com/client-auth?scopes=https%3A//www.googleapis.com/auth/earthengine%20https%3A//www.googleapis.com/auth/devstorage.full_control&request_id=FtEyKfJ_c2Htl8MPEeYh9JVc9d4G_sBH9MzusFoAva0&tc=xInqAkrKEJkSuMq-eiQd-9MFKLAs1h7D0OsOIqhtO14&cc=-72KgnKJSGyBAEyfOgUSCpGMrq2VX3ShaPhG_sSeBAM</a></p>\n",
       "        <p>The authorization workflow will generate a code, which you should paste in the box below.</p>\n",
       "        "
      ],
      "text/plain": [
       "<IPython.core.display.HTML object>"
      ]
     },
     "metadata": {},
     "output_type": "display_data"
    },
    {
     "name": "stdout",
     "output_type": "stream",
     "text": [
      "\n",
      "Successfully saved authorization token.\n"
     ]
    }
   ],
   "source": [
    "import ee\n",
    "import geemap\n",
    "\n",
    "# Initialize Earth Engine\n",
    "ee.Authenticate()\n",
    "ee.Initialize(project='ee-yankomagn')"
   ]
  },
  {
   "cell_type": "code",
   "execution_count": 2,
   "metadata": {},
   "outputs": [],
   "source": [
    "# Create a map\n",
    "Map = geemap.Map()\n",
    "\n",
    "# Set map center\n",
    "Map.setCenter(-69.91151172418182, 18.47803423428588, 12)\n",
    "Map.add_basemap('SATELLITE')\n",
    "\n",
    "# Load buildings and labels\n",
    "buildings_uri_SD = '../data/0/overture/santodomingo_buildings.geojson'"
   ]
  },
  {
   "cell_type": "code",
   "execution_count": 3,
   "metadata": {},
   "outputs": [],
   "source": [
    "# Add labels\n",
    "labels = ee.FeatureCollection('projects/ee-yankomagn/assets/SD_labels')\n",
    "labels = labels.map(lambda feature: feature.set('class', 1))\n",
    "vislabelParams = {'color': 'brown'}\n",
    "wards = labels.geometry().bounds()\n",
    "\n",
    "# Other urban class for comparison\n",
    "otherurban = ee.FeatureCollection('projects/ee-yankomagn/assets/SD_otherclass')\n",
    "otherurban = otherurban.map(lambda feature: feature.set('class', 2))\n",
    "visOtherUrbanParams = {'color': 'yellow'}\n",
    "\n",
    "class_mask = ee.Image().paint(labels, 1).paint(otherurban, 2).unmask(0).rename('class')\n",
    "\n",
    "# Load buildings\n",
    "buildings = ee.FeatureCollection('GOOGLE/Research/open-buildings/v3/polygons')\n",
    "buildings = buildings.filterBounds(wards)\n",
    "\n",
    "Map.addLayer(buildings, {'color': '00FF00'}, 'Buildings')\n",
    "Map.addLayer(wards, {}, 'Wards', False)\n",
    "# labelmask_params = {'min': 0,'max': 1,'palette': ['blue', 'red']}\n",
    "# Map.addLayer(class_mask, labelmask_params, 'Labels mask', False)"
   ]
  },
  {
   "cell_type": "code",
   "execution_count": 4,
   "metadata": {},
   "outputs": [],
   "source": [
    "# Sentinel-2 multispectral imagery collection and processing\n",
    "def maskS2clouds(image):\n",
    "    qa = image.select('QA60')\n",
    "    cloudBitMask = 1 << 10\n",
    "    cirrusBitMask = 1 << 11\n",
    "    mask = qa.bitwiseAnd(cloudBitMask).eq(0).And(\n",
    "        qa.bitwiseAnd(cirrusBitMask).eq(0))\n",
    "    return image.updateMask(mask) \\\n",
    "        .select(['B4', 'B3', 'B2', 'B8']) \\\n",
    "        .copyProperties(image, [\"system:time_start\"])\n",
    "\n",
    "collection = ee.ImageCollection('COPERNICUS/S2') \\\n",
    "    .filterDate('2020-01-01', '2020-12-31') \\\n",
    "    .filter(ee.Filter.lt('CLOUDY_PIXEL_PERCENTAGE', 20)) \\\n",
    "    .map(maskS2clouds) \\\n",
    "    .median()\n",
    "\n",
    "# Clip the image to the study area\n",
    "image = collection.clip(wards)\n",
    "\n",
    "# Add the Sentinel-2 layer to the map\n",
    "Map.addLayer(image, {'bands': ['B4', 'B3', 'B2'], 'min': 0, 'max': 3000}, 'Sentinel-2 RGB', True)\n",
    "\n",
    "# Calculate building density\n",
    "empty = ee.Image().byte()\n",
    "buildingsRec = buildings.map(lambda feature: feature.set({\n",
    "    'area': ee.Number(1).divide(feature.geometry().area()).multiply(100),\n",
    "    'const': 1\n",
    "}))\n",
    "\n",
    "buildingsRec_color = empty.paint(buildingsRec, 'area').unmask(0)\n",
    "\n",
    "gaussian = ee.Kernel.gaussian(radius=60, units='meters', normalize=True, sigma=15)\n",
    "\n",
    "density = buildingsRec_color.reduceNeighborhood(reducer=ee.Reducer.sum(), kernel=gaussian)\n",
    "clippedDensity = density.clip(wards)\n",
    "image = image.addBands(clippedDensity)\n",
    "\n",
    "# Visualization parameters for density\n",
    "palette = ['blue', 'cyan', 'green', 'yellow', 'red']\n",
    "visParams = {\n",
    "    'bands': ['constant_sum'],\n",
    "    'palette': palette\n",
    "}\n",
    "\n",
    "Map.addLayer(image, visParams, 'Density', True)\n",
    "Map.addLayer(labels, vislabelParams, 'Labels')\n",
    "\n",
    "# Function to generate points within a feature collection\n",
    "def generate_stratified_points(image, numPoints):\n",
    "    stratified = image.addBands(ee.Image.pixelLonLat())\n",
    "    points = stratified.stratifiedSample(\n",
    "        numPoints=numPoints,\n",
    "        classBand='class',\n",
    "        region=wards,\n",
    "        scale=30,\n",
    "        geometries=True\n",
    "    )\n",
    "    return points\n",
    "\n",
    "# Generate stratified sample points\n",
    "sample_points = generate_stratified_points(class_mask, 2000)  # Adjust number as needed\n",
    "\n",
    "# Split into training and validation\n",
    "split = 0.7\n",
    "training_points = sample_points.randomColumn().filter(ee.Filter.lt('random', split))\n",
    "validation_points = sample_points.randomColumn().filter(ee.Filter.gte('random', split))\n",
    "\n",
    "# Select the bands you want to use for classification\n",
    "bands = ['B4', 'B3', 'B2', 'B8', 'constant_sum']\n",
    "\n",
    "# Sample the image at the point locations\n",
    "training = image.select(bands).addBands(class_mask).sampleRegions(\n",
    "    collection=training_points,\n",
    "    properties=['class'],\n",
    "    scale=30\n",
    ")"
   ]
  },
  {
   "cell_type": "code",
   "execution_count": 5,
   "metadata": {},
   "outputs": [],
   "source": [
    "saved_classifier = ee.Classifier.load('projects/ee-yankomagn/assets/rf_classifier_trained')"
   ]
  },
  {
   "cell_type": "code",
   "execution_count": 8,
   "metadata": {},
   "outputs": [],
   "source": [
    "# Train a Random Forest classifier\n",
    "rf = ee.Classifier.smileRandomForest(100).train(\n",
    "    features=training,\n",
    "    classProperty='class',\n",
    "    inputProperties=bands\n",
    ")\n",
    "\n",
    "# Apply the classifier to the image\n",
    "classified = image.select(bands).classify(rf)\n",
    "\n",
    "# Sample the classified image for validation\n",
    "validation = classified.addBands(class_mask).sampleRegions(\n",
    "    collection=validation_points,\n",
    "    properties=['class'],\n",
    "    scale=30\n",
    ")\n",
    "\n",
    "\n",
    "# Export the trained classifier as an asset\n",
    "# export_path = 'projects/ee-yankomagn/assets/rf_classifier_trained' # 'users/your_username/rf_classifier'\n",
    "\n",
    "# export_task = ee.batch.Export.table.toAsset(\n",
    "#     collection=ee.FeatureCollection([ee.Feature(None, rf.explain())]),\n",
    "#     description='Export RF Classifier',\n",
    "#     assetId=export_path\n",
    "# )\n",
    "\n",
    "# # Start the export task\n",
    "# export_task.start()"
   ]
  },
  {
   "cell_type": "code",
   "execution_count": 9,
   "metadata": {},
   "outputs": [
    {
     "ename": "AttributeError",
     "evalue": "'Number' object has no attribute 'evaluate'",
     "output_type": "error",
     "traceback": [
      "\u001b[0;31m---------------------------------------------------------------------------\u001b[0m",
      "\u001b[0;31mAttributeError\u001b[0m                            Traceback (most recent call last)",
      "Cell \u001b[0;32mIn[9], line 5\u001b[0m\n\u001b[1;32m      2\u001b[0m testAccuracy \u001b[38;5;241m=\u001b[39m validation\u001b[38;5;241m.\u001b[39merrorMatrix(\u001b[38;5;124m'\u001b[39m\u001b[38;5;124mclass\u001b[39m\u001b[38;5;124m'\u001b[39m, \u001b[38;5;124m'\u001b[39m\u001b[38;5;124mclassification\u001b[39m\u001b[38;5;124m'\u001b[39m)\n\u001b[1;32m      4\u001b[0m \u001b[38;5;66;03m# Use evaluate() instead of getInfo()\u001b[39;00m\n\u001b[0;32m----> 5\u001b[0m accuracy_result \u001b[38;5;241m=\u001b[39m \u001b[43mtestAccuracy\u001b[49m\u001b[38;5;241;43m.\u001b[39;49m\u001b[43maccuracy\u001b[49m\u001b[43m(\u001b[49m\u001b[43m)\u001b[49m\u001b[38;5;241;43m.\u001b[39;49m\u001b[43mevaluate\u001b[49m()\n\u001b[1;32m      6\u001b[0m \u001b[38;5;28mprint\u001b[39m(\u001b[38;5;124m'\u001b[39m\u001b[38;5;124mOverall accuracy: \u001b[39m\u001b[38;5;124m'\u001b[39m, accuracy_result[\u001b[38;5;124m'\u001b[39m\u001b[38;5;124maccuracy\u001b[39m\u001b[38;5;124m'\u001b[39m])\n",
      "\u001b[0;31mAttributeError\u001b[0m: 'Number' object has no attribute 'evaluate'"
     ]
    }
   ],
   "source": [
    "# Compute accuracy\n",
    "testAccuracy = validation.errorMatrix('class', 'classification')\n",
    "\n",
    "# Use evaluate() instead of getInfo()\n",
    "accuracy_result = testAccuracy.accuracy().evaluate()\n",
    "print('Overall accuracy: ', accuracy_result['accuracy'])"
   ]
  },
  {
   "cell_type": "code",
   "execution_count": 10,
   "metadata": {},
   "outputs": [
    {
     "ename": "AttributeError",
     "evalue": "'Array' object has no attribute 'evaluate'",
     "output_type": "error",
     "traceback": [
      "\u001b[0;31m---------------------------------------------------------------------------\u001b[0m",
      "\u001b[0;31mAttributeError\u001b[0m                            Traceback (most recent call last)",
      "Cell \u001b[0;32mIn[10], line 2\u001b[0m\n\u001b[1;32m      1\u001b[0m \u001b[38;5;66;03m# Compute class-specific accuracy\u001b[39;00m\n\u001b[0;32m----> 2\u001b[0m class_accuracy \u001b[38;5;241m=\u001b[39m \u001b[43mtestAccuracy\u001b[49m\u001b[38;5;241;43m.\u001b[39;49m\u001b[43mproducersAccuracy\u001b[49m\u001b[43m(\u001b[49m\u001b[43m)\u001b[49m\u001b[38;5;241;43m.\u001b[39;49m\u001b[43mevaluate\u001b[49m()\n\u001b[1;32m      3\u001b[0m \u001b[38;5;28mprint\u001b[39m(\u001b[38;5;124m'\u001b[39m\u001b[38;5;124mClass-specific accuracy: \u001b[39m\u001b[38;5;124m'\u001b[39m, class_accuracy[\u001b[38;5;124m'\u001b[39m\u001b[38;5;124maccuracy\u001b[39m\u001b[38;5;124m'\u001b[39m])\n",
      "\u001b[0;31mAttributeError\u001b[0m: 'Array' object has no attribute 'evaluate'"
     ]
    }
   ],
   "source": [
    "# Compute class-specific accuracy\n",
    "class_accuracy = testAccuracy.producersAccuracy().evaluate()\n",
    "print('Class-specific accuracy: ', class_accuracy['accuracy'])"
   ]
  },
  {
   "cell_type": "code",
   "execution_count": 11,
   "metadata": {},
   "outputs": [
    {
     "ename": "AttributeError",
     "evalue": "'Number' object has no attribute 'evaluate'",
     "output_type": "error",
     "traceback": [
      "\u001b[0;31m---------------------------------------------------------------------------\u001b[0m",
      "\u001b[0;31mAttributeError\u001b[0m                            Traceback (most recent call last)",
      "Cell \u001b[0;32mIn[11], line 2\u001b[0m\n\u001b[1;32m      1\u001b[0m \u001b[38;5;66;03m# If you want to focus on the accuracy of your main class of interest (class 1)\u001b[39;00m\n\u001b[0;32m----> 2\u001b[0m main_class_accuracy \u001b[38;5;241m=\u001b[39m \u001b[43mtestAccuracy\u001b[49m\u001b[38;5;241;43m.\u001b[39;49m\u001b[43mproducersAccuracy\u001b[49m\u001b[43m(\u001b[49m\u001b[43m)\u001b[49m\u001b[38;5;241;43m.\u001b[39;49m\u001b[43mget\u001b[49m\u001b[43m(\u001b[49m\u001b[43m[\u001b[49m\u001b[38;5;241;43m1\u001b[39;49m\u001b[43m]\u001b[49m\u001b[43m)\u001b[49m\u001b[38;5;241;43m.\u001b[39;49m\u001b[43mevaluate\u001b[49m()\n\u001b[1;32m      3\u001b[0m \u001b[38;5;28mprint\u001b[39m(\u001b[38;5;124m'\u001b[39m\u001b[38;5;124mAccuracy for main class of interest: \u001b[39m\u001b[38;5;124m'\u001b[39m, main_class_accuracy[\u001b[38;5;124m'\u001b[39m\u001b[38;5;124maccuracy\u001b[39m\u001b[38;5;124m'\u001b[39m])\n",
      "\u001b[0;31mAttributeError\u001b[0m: 'Number' object has no attribute 'evaluate'"
     ]
    }
   ],
   "source": [
    "# If you want to focus on the accuracy of your main class of interest (class 1)\n",
    "main_class_accuracy = testAccuracy.producersAccuracy().get([1]).evaluate()\n",
    "print('Accuracy for main class of interest: ', main_class_accuracy['accuracy'])"
   ]
  },
  {
   "cell_type": "code",
   "execution_count": 12,
   "metadata": {},
   "outputs": [
    {
     "ename": "EEException",
     "evalue": "Computation timed out.",
     "output_type": "error",
     "traceback": [
      "\u001b[0;31m---------------------------------------------------------------------------\u001b[0m",
      "\u001b[0;31mHttpError\u001b[0m                                 Traceback (most recent call last)",
      "File \u001b[0;32m/opt/miniconda3/envs/rv/lib/python3.11/site-packages/ee/data.py:326\u001b[0m, in \u001b[0;36m_execute_cloud_call\u001b[0;34m(call, num_retries)\u001b[0m\n\u001b[1;32m    325\u001b[0m \u001b[38;5;28;01mtry\u001b[39;00m:\n\u001b[0;32m--> 326\u001b[0m   \u001b[38;5;28;01mreturn\u001b[39;00m \u001b[43mcall\u001b[49m\u001b[38;5;241;43m.\u001b[39;49m\u001b[43mexecute\u001b[49m\u001b[43m(\u001b[49m\u001b[43mnum_retries\u001b[49m\u001b[38;5;241;43m=\u001b[39;49m\u001b[43mnum_retries\u001b[49m\u001b[43m)\u001b[49m\n\u001b[1;32m    327\u001b[0m \u001b[38;5;28;01mexcept\u001b[39;00m googleapiclient\u001b[38;5;241m.\u001b[39merrors\u001b[38;5;241m.\u001b[39mHttpError \u001b[38;5;28;01mas\u001b[39;00m e:\n",
      "File \u001b[0;32m/opt/miniconda3/envs/rv/lib/python3.11/site-packages/googleapiclient/_helpers.py:130\u001b[0m, in \u001b[0;36mpositional.<locals>.positional_decorator.<locals>.positional_wrapper\u001b[0;34m(*args, **kwargs)\u001b[0m\n\u001b[1;32m    129\u001b[0m         logger\u001b[38;5;241m.\u001b[39mwarning(message)\n\u001b[0;32m--> 130\u001b[0m \u001b[38;5;28;01mreturn\u001b[39;00m \u001b[43mwrapped\u001b[49m\u001b[43m(\u001b[49m\u001b[38;5;241;43m*\u001b[39;49m\u001b[43margs\u001b[49m\u001b[43m,\u001b[49m\u001b[43m \u001b[49m\u001b[38;5;241;43m*\u001b[39;49m\u001b[38;5;241;43m*\u001b[39;49m\u001b[43mkwargs\u001b[49m\u001b[43m)\u001b[49m\n",
      "File \u001b[0;32m/opt/miniconda3/envs/rv/lib/python3.11/site-packages/googleapiclient/http.py:938\u001b[0m, in \u001b[0;36mHttpRequest.execute\u001b[0;34m(self, http, num_retries)\u001b[0m\n\u001b[1;32m    937\u001b[0m \u001b[38;5;28;01mif\u001b[39;00m resp\u001b[38;5;241m.\u001b[39mstatus \u001b[38;5;241m>\u001b[39m\u001b[38;5;241m=\u001b[39m \u001b[38;5;241m300\u001b[39m:\n\u001b[0;32m--> 938\u001b[0m     \u001b[38;5;28;01mraise\u001b[39;00m HttpError(resp, content, uri\u001b[38;5;241m=\u001b[39m\u001b[38;5;28mself\u001b[39m\u001b[38;5;241m.\u001b[39muri)\n\u001b[1;32m    939\u001b[0m \u001b[38;5;28;01mreturn\u001b[39;00m \u001b[38;5;28mself\u001b[39m\u001b[38;5;241m.\u001b[39mpostproc(resp, content)\n",
      "\u001b[0;31mHttpError\u001b[0m: <HttpError 400 when requesting https://earthengine.googleapis.com/v1alpha/projects/ee-yankomagn/maps?fields=name&alt=json returned \"Computation timed out.\". Details: \"Computation timed out.\">",
      "\nDuring handling of the above exception, another exception occurred:\n",
      "\u001b[0;31mEEException\u001b[0m                               Traceback (most recent call last)",
      "Cell \u001b[0;32mIn[12], line 8\u001b[0m\n\u001b[1;32m      2\u001b[0m class_palette \u001b[38;5;241m=\u001b[39m [\u001b[38;5;124m'\u001b[39m\u001b[38;5;124mblack\u001b[39m\u001b[38;5;124m'\u001b[39m, \u001b[38;5;124m'\u001b[39m\u001b[38;5;124mred\u001b[39m\u001b[38;5;124m'\u001b[39m, \u001b[38;5;124m'\u001b[39m\u001b[38;5;124mblue\u001b[39m\u001b[38;5;124m'\u001b[39m]  \u001b[38;5;66;03m# black for background, red for labels, blue for other urban\u001b[39;00m\n\u001b[1;32m      3\u001b[0m class_vis \u001b[38;5;241m=\u001b[39m {\n\u001b[1;32m      4\u001b[0m     \u001b[38;5;124m'\u001b[39m\u001b[38;5;124mmin\u001b[39m\u001b[38;5;124m'\u001b[39m: \u001b[38;5;241m0\u001b[39m,\n\u001b[1;32m      5\u001b[0m     \u001b[38;5;124m'\u001b[39m\u001b[38;5;124mmax\u001b[39m\u001b[38;5;124m'\u001b[39m: \u001b[38;5;241m2\u001b[39m,\n\u001b[1;32m      6\u001b[0m     \u001b[38;5;124m'\u001b[39m\u001b[38;5;124mpalette\u001b[39m\u001b[38;5;124m'\u001b[39m: class_palette\n\u001b[1;32m      7\u001b[0m }\n\u001b[0;32m----> 8\u001b[0m \u001b[43mMap\u001b[49m\u001b[38;5;241;43m.\u001b[39;49m\u001b[43maddLayer\u001b[49m\u001b[43m(\u001b[49m\u001b[43mclassified\u001b[49m\u001b[43m,\u001b[49m\u001b[43m \u001b[49m\u001b[43mclass_vis\u001b[49m\u001b[43m,\u001b[49m\u001b[43m \u001b[49m\u001b[38;5;124;43m'\u001b[39;49m\u001b[38;5;124;43mClassification\u001b[39;49m\u001b[38;5;124;43m'\u001b[39;49m\u001b[43m)\u001b[49m\n\u001b[1;32m     10\u001b[0m \u001b[38;5;66;03m# Display the map\u001b[39;00m\n\u001b[1;32m     11\u001b[0m Map\n",
      "File \u001b[0;32m/opt/miniconda3/envs/rv/lib/python3.11/site-packages/geemap/geemap.py:1492\u001b[0m, in \u001b[0;36mMap.add_ee_layer\u001b[0;34m(self, ee_object, vis_params, name, shown, opacity)\u001b[0m\n\u001b[1;32m   1487\u001b[0m     \u001b[38;5;28;01melif\u001b[39;00m \u001b[38;5;129;01mnot\u001b[39;00m \u001b[38;5;28misinstance\u001b[39m(vis_params[\u001b[38;5;124m\"\u001b[39m\u001b[38;5;124mpalette\u001b[39m\u001b[38;5;124m\"\u001b[39m], \u001b[38;5;28mlist\u001b[39m):\n\u001b[1;32m   1488\u001b[0m         \u001b[38;5;28;01mraise\u001b[39;00m \u001b[38;5;167;01mValueError\u001b[39;00m(\n\u001b[1;32m   1489\u001b[0m             \u001b[38;5;124m\"\u001b[39m\u001b[38;5;124mThe palette must be a list of colors or a string or a Box object.\u001b[39m\u001b[38;5;124m\"\u001b[39m\n\u001b[1;32m   1490\u001b[0m         )\n\u001b[0;32m-> 1492\u001b[0m map_id_dict \u001b[38;5;241m=\u001b[39m \u001b[43mee\u001b[49m\u001b[38;5;241;43m.\u001b[39;49m\u001b[43mImage\u001b[49m\u001b[43m(\u001b[49m\u001b[43mimage\u001b[49m\u001b[43m)\u001b[49m\u001b[38;5;241;43m.\u001b[39;49m\u001b[43mgetMapId\u001b[49m\u001b[43m(\u001b[49m\u001b[43mvis_params\u001b[49m\u001b[43m)\u001b[49m\n\u001b[1;32m   1493\u001b[0m url \u001b[38;5;241m=\u001b[39m map_id_dict[\u001b[38;5;124m\"\u001b[39m\u001b[38;5;124mtile_fetcher\u001b[39m\u001b[38;5;124m\"\u001b[39m]\u001b[38;5;241m.\u001b[39murl_format\n\u001b[1;32m   1494\u001b[0m tile_layer \u001b[38;5;241m=\u001b[39m ipyleaflet\u001b[38;5;241m.\u001b[39mTileLayer(\n\u001b[1;32m   1495\u001b[0m     url\u001b[38;5;241m=\u001b[39murl,\n\u001b[1;32m   1496\u001b[0m     attribution\u001b[38;5;241m=\u001b[39m\u001b[38;5;124m\"\u001b[39m\u001b[38;5;124mGoogle Earth Engine\u001b[39m\u001b[38;5;124m\"\u001b[39m,\n\u001b[0;32m   (...)\u001b[0m\n\u001b[1;32m   1500\u001b[0m     max_zoom\u001b[38;5;241m=\u001b[39m\u001b[38;5;241m24\u001b[39m,\n\u001b[1;32m   1501\u001b[0m )\n",
      "File \u001b[0;32m/opt/miniconda3/envs/rv/lib/python3.11/site-packages/ee/image.py:130\u001b[0m, in \u001b[0;36mImage.getMapId\u001b[0;34m(self, vis_params)\u001b[0m\n\u001b[1;32m    128\u001b[0m vis_image, request \u001b[38;5;241m=\u001b[39m \u001b[38;5;28mself\u001b[39m\u001b[38;5;241m.\u001b[39m_apply_visualization(vis_params)\n\u001b[1;32m    129\u001b[0m request[\u001b[38;5;124m'\u001b[39m\u001b[38;5;124mimage\u001b[39m\u001b[38;5;124m'\u001b[39m] \u001b[38;5;241m=\u001b[39m vis_image\n\u001b[0;32m--> 130\u001b[0m response \u001b[38;5;241m=\u001b[39m \u001b[43mdata\u001b[49m\u001b[38;5;241;43m.\u001b[39;49m\u001b[43mgetMapId\u001b[49m\u001b[43m(\u001b[49m\u001b[43mrequest\u001b[49m\u001b[43m)\u001b[49m\n\u001b[1;32m    131\u001b[0m response[\u001b[38;5;124m'\u001b[39m\u001b[38;5;124mimage\u001b[39m\u001b[38;5;124m'\u001b[39m] \u001b[38;5;241m=\u001b[39m \u001b[38;5;28mself\u001b[39m\n\u001b[1;32m    132\u001b[0m \u001b[38;5;28;01mreturn\u001b[39;00m response\n",
      "File \u001b[0;32m/opt/miniconda3/envs/rv/lib/python3.11/site-packages/ee/data.py:607\u001b[0m, in \u001b[0;36mgetMapId\u001b[0;34m(params)\u001b[0m\n\u001b[1;32m    602\u001b[0m queryParams \u001b[38;5;241m=\u001b[39m {\n\u001b[1;32m    603\u001b[0m     \u001b[38;5;124m'\u001b[39m\u001b[38;5;124mfields\u001b[39m\u001b[38;5;124m'\u001b[39m: \u001b[38;5;124m'\u001b[39m\u001b[38;5;124mname\u001b[39m\u001b[38;5;124m'\u001b[39m,\n\u001b[1;32m    604\u001b[0m     \u001b[38;5;124m'\u001b[39m\u001b[38;5;124mbody\u001b[39m\u001b[38;5;124m'\u001b[39m: request,\n\u001b[1;32m    605\u001b[0m }\n\u001b[1;32m    606\u001b[0m _maybe_populate_workload_tag(queryParams)\n\u001b[0;32m--> 607\u001b[0m result \u001b[38;5;241m=\u001b[39m \u001b[43m_execute_cloud_call\u001b[49m\u001b[43m(\u001b[49m\n\u001b[1;32m    608\u001b[0m \u001b[43m    \u001b[49m\u001b[43m_get_cloud_api_resource\u001b[49m\u001b[43m(\u001b[49m\u001b[43m)\u001b[49m\u001b[38;5;241;43m.\u001b[39;49m\u001b[43mprojects\u001b[49m\u001b[43m(\u001b[49m\u001b[43m)\u001b[49m\u001b[38;5;241;43m.\u001b[39;49m\u001b[43mmaps\u001b[49m\u001b[43m(\u001b[49m\u001b[43m)\u001b[49m\u001b[38;5;241;43m.\u001b[39;49m\u001b[43mcreate\u001b[49m\u001b[43m(\u001b[49m\n\u001b[1;32m    609\u001b[0m \u001b[43m        \u001b[49m\u001b[43mparent\u001b[49m\u001b[38;5;241;43m=\u001b[39;49m\u001b[43m_get_projects_path\u001b[49m\u001b[43m(\u001b[49m\u001b[43m)\u001b[49m\u001b[43m,\u001b[49m\u001b[43m \u001b[49m\u001b[38;5;241;43m*\u001b[39;49m\u001b[38;5;241;43m*\u001b[39;49m\u001b[43mqueryParams\u001b[49m\u001b[43m)\u001b[49m\u001b[43m)\u001b[49m\n\u001b[1;32m    610\u001b[0m map_name \u001b[38;5;241m=\u001b[39m result[\u001b[38;5;124m'\u001b[39m\u001b[38;5;124mname\u001b[39m\u001b[38;5;124m'\u001b[39m]\n\u001b[1;32m    611\u001b[0m url_format \u001b[38;5;241m=\u001b[39m \u001b[38;5;124m'\u001b[39m\u001b[38;5;132;01m%s\u001b[39;00m\u001b[38;5;124m/\u001b[39m\u001b[38;5;132;01m%s\u001b[39;00m\u001b[38;5;124m/\u001b[39m\u001b[38;5;132;01m%s\u001b[39;00m\u001b[38;5;124m/tiles/\u001b[39m\u001b[38;5;132;01m{z}\u001b[39;00m\u001b[38;5;124m/\u001b[39m\u001b[38;5;132;01m{x}\u001b[39;00m\u001b[38;5;124m/\u001b[39m\u001b[38;5;132;01m{y}\u001b[39;00m\u001b[38;5;124m'\u001b[39m \u001b[38;5;241m%\u001b[39m (\n\u001b[1;32m    612\u001b[0m     _tile_base_url, _cloud_api_utils\u001b[38;5;241m.\u001b[39mVERSION, map_name)\n",
      "File \u001b[0;32m/opt/miniconda3/envs/rv/lib/python3.11/site-packages/ee/data.py:328\u001b[0m, in \u001b[0;36m_execute_cloud_call\u001b[0;34m(call, num_retries)\u001b[0m\n\u001b[1;32m    326\u001b[0m   \u001b[38;5;28;01mreturn\u001b[39;00m call\u001b[38;5;241m.\u001b[39mexecute(num_retries\u001b[38;5;241m=\u001b[39mnum_retries)\n\u001b[1;32m    327\u001b[0m \u001b[38;5;28;01mexcept\u001b[39;00m googleapiclient\u001b[38;5;241m.\u001b[39merrors\u001b[38;5;241m.\u001b[39mHttpError \u001b[38;5;28;01mas\u001b[39;00m e:\n\u001b[0;32m--> 328\u001b[0m   \u001b[38;5;28;01mraise\u001b[39;00m _translate_cloud_exception(e)\n",
      "\u001b[0;31mEEException\u001b[0m: Computation timed out."
     ]
    }
   ],
   "source": [
    "# Visualize the classification result\n",
    "class_palette = ['black', 'red', 'blue']  # black for background, red for labels, blue for other urban\n",
    "class_vis = {\n",
    "    'min': 0,\n",
    "    'max': 2,\n",
    "    'palette': class_palette\n",
    "}\n",
    "Map.addLayer(classified, class_vis, 'Classification')\n",
    "\n",
    "# Display the map\n",
    "Map"
   ]
  },
  {
   "cell_type": "code",
   "execution_count": null,
   "metadata": {},
   "outputs": [],
   "source": []
  }
 ],
 "metadata": {
  "kernelspec": {
   "display_name": "rv",
   "language": "python",
   "name": "python3"
  },
  "language_info": {
   "codemirror_mode": {
    "name": "ipython",
    "version": 3
   },
   "file_extension": ".py",
   "mimetype": "text/x-python",
   "name": "python",
   "nbconvert_exporter": "python",
   "pygments_lexer": "ipython3",
   "version": "3.11.9"
  }
 },
 "nbformat": 4,
 "nbformat_minor": 2
}
